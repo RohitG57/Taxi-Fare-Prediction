{
 "cells": [
  {
   "cell_type": "markdown",
   "id": "7d9b8d48",
   "metadata": {},
   "source": [
    "# <center> Taxi Fare Prediction"
   ]
  },
  {
   "cell_type": "markdown",
   "id": "a0270d6c",
   "metadata": {},
   "source": [
    "- Abstract: \n",
    "\n",
    "In the last few years, the number of for-hire vehicles operating in NY has grown from 63,000 to more than 100,000. However, while the number of trips in app-based vehicles has increased from 6 million to 17 million a year, taxi trips have fallen from 11 million to 8.5 million. Hence, the NY Yellow Cab organization decided to become more data-centric. Then we have apps like Uber, OLA, Lyft, Gett, etc. how do these apps work? After all, that set price is not a random guess."
   ]
  },
  {
   "cell_type": "markdown",
   "id": "1cb269f1",
   "metadata": {},
   "source": [
    "- Problem Statement: \n",
    "    \n",
    "Given pickup and dropoff locations, the pickup timestamp, and the passenger count, the objective is to predict the fare of the taxi ride using Random Forest."
   ]
  },
  {
   "cell_type": "markdown",
   "id": "4c8c7675",
   "metadata": {},
   "source": [
    "- Dataset Information:\n",
    "\n",
    "unique_id:  A unique identifier or key for each record in the dataset\n",
    "\n",
    "date_time_of_pickup:  The time when the ride started \n",
    "\n",
    "longitude_of_pickup:  Longitude of the taxi ride pickup point \n",
    "\n",
    "latitude_of_pickup:  Latitude of the taxi ride pickup point \n",
    "\n",
    "longitude__of_dropoff:  Longitude of the taxi ride dropoff point \n",
    "\n",
    "latitude_of_dropoff:  Latitude of the taxi ride dropoff point \n",
    "\n",
    "no_of_passenger:  count of the passengers during the ride \n",
    "\n",
    "amount:  (target variable)dollar amount of the cost of the taxi ride"
   ]
  },
  {
   "cell_type": "markdown",
   "id": "87a02612",
   "metadata": {},
   "source": [
    "- Scope: \n",
    "\n",
    "● Prepare and analyse data ● Perform feature engineering wherever applicable ● Check the distribution of key numerical variables ● Training a Random Forest model with data and check it’s performance ● Perform hyperparameter tuning"
   ]
  },
  {
   "cell_type": "code",
   "execution_count": null,
   "id": "c23cd399",
   "metadata": {},
   "outputs": [],
   "source": []
  },
  {
   "cell_type": "markdown",
   "id": "218b1bde",
   "metadata": {},
   "source": [
    "##  *Getting Data*"
   ]
  },
  {
   "cell_type": "code",
   "execution_count": 1,
   "id": "49854505",
   "metadata": {},
   "outputs": [],
   "source": [
    "# Importing necessary libraries\n",
    "import pandas as pd\n",
    "import numpy as np\n",
    "import matplotlib.pyplot as plt\n",
    "import seaborn as sns\n",
    "%matplotlib inline\n",
    "import warnings\n",
    "warnings.filterwarnings('ignore')\n",
    "import pylab as pl\n",
    "#pd.set_option('Display.max_rows',None)"
   ]
  },
  {
   "cell_type": "code",
   "execution_count": 2,
   "id": "9a898169",
   "metadata": {},
   "outputs": [],
   "source": [
    "# Getting data using pandas\n",
    "taxi = pd.read_csv('TaxiFare.csv')"
   ]
  },
  {
   "cell_type": "code",
   "execution_count": 3,
   "id": "d5dbf5ae",
   "metadata": {},
   "outputs": [
    {
     "data": {
      "text/plain": [
       "(50000, 8)"
      ]
     },
     "execution_count": 3,
     "metadata": {},
     "output_type": "execute_result"
    }
   ],
   "source": [
    "# Dimensions of dataframe\n",
    "taxi.shape"
   ]
  },
  {
   "cell_type": "code",
   "execution_count": 4,
   "id": "d18dc9ef",
   "metadata": {},
   "outputs": [
    {
     "data": {
      "text/plain": [
       "400000"
      ]
     },
     "execution_count": 4,
     "metadata": {},
     "output_type": "execute_result"
    }
   ],
   "source": [
    "# Elements in dataframe\n",
    "taxi.size"
   ]
  },
  {
   "cell_type": "code",
   "execution_count": 5,
   "id": "ddc67ecf",
   "metadata": {},
   "outputs": [
    {
     "data": {
      "text/html": [
       "<div>\n",
       "<style scoped>\n",
       "    .dataframe tbody tr th:only-of-type {\n",
       "        vertical-align: middle;\n",
       "    }\n",
       "\n",
       "    .dataframe tbody tr th {\n",
       "        vertical-align: top;\n",
       "    }\n",
       "\n",
       "    .dataframe thead th {\n",
       "        text-align: right;\n",
       "    }\n",
       "</style>\n",
       "<table border=\"1\" class=\"dataframe\">\n",
       "  <thead>\n",
       "    <tr style=\"text-align: right;\">\n",
       "      <th></th>\n",
       "      <th>unique_id</th>\n",
       "      <th>date_time_of_pickup</th>\n",
       "      <th>longitude_of_pickup</th>\n",
       "      <th>latitude_of_pickup</th>\n",
       "      <th>longitude_of_dropoff</th>\n",
       "      <th>latitude_of_dropoff</th>\n",
       "      <th>no_of_passenger</th>\n",
       "      <th>amount</th>\n",
       "    </tr>\n",
       "  </thead>\n",
       "  <tbody>\n",
       "    <tr>\n",
       "      <th>0</th>\n",
       "      <td>31:49.0</td>\n",
       "      <td>2009-01-01 01:31:49 UTC</td>\n",
       "      <td>-73.994192</td>\n",
       "      <td>40.720077</td>\n",
       "      <td>-73.993356</td>\n",
       "      <td>40.742642</td>\n",
       "      <td>1</td>\n",
       "      <td>8.6</td>\n",
       "    </tr>\n",
       "    <tr>\n",
       "      <th>1</th>\n",
       "      <td>05:37.0</td>\n",
       "      <td>2009-01-01 02:05:37 UTC</td>\n",
       "      <td>-73.978433</td>\n",
       "      <td>40.744781</td>\n",
       "      <td>-74.004713</td>\n",
       "      <td>40.734328</td>\n",
       "      <td>1</td>\n",
       "      <td>11.0</td>\n",
       "    </tr>\n",
       "    <tr>\n",
       "      <th>2</th>\n",
       "      <td>07:49.0</td>\n",
       "      <td>2009-01-01 02:07:49 UTC</td>\n",
       "      <td>-73.984291</td>\n",
       "      <td>40.667851</td>\n",
       "      <td>-74.006015</td>\n",
       "      <td>40.735481</td>\n",
       "      <td>3</td>\n",
       "      <td>17.8</td>\n",
       "    </tr>\n",
       "    <tr>\n",
       "      <th>3</th>\n",
       "      <td>51:52.0</td>\n",
       "      <td>2009-01-01 02:51:52 UTC</td>\n",
       "      <td>-73.956172</td>\n",
       "      <td>40.771965</td>\n",
       "      <td>-73.991027</td>\n",
       "      <td>40.751035</td>\n",
       "      <td>2</td>\n",
       "      <td>10.2</td>\n",
       "    </tr>\n",
       "    <tr>\n",
       "      <th>4</th>\n",
       "      <td>31:36.0</td>\n",
       "      <td>2009-01-01 03:31:36 UTC</td>\n",
       "      <td>-73.980325</td>\n",
       "      <td>40.734579</td>\n",
       "      <td>-74.014711</td>\n",
       "      <td>40.717868</td>\n",
       "      <td>3</td>\n",
       "      <td>15.4</td>\n",
       "    </tr>\n",
       "  </tbody>\n",
       "</table>\n",
       "</div>"
      ],
      "text/plain": [
       "  unique_id      date_time_of_pickup  longitude_of_pickup  latitude_of_pickup  \\\n",
       "0   31:49.0  2009-01-01 01:31:49 UTC           -73.994192           40.720077   \n",
       "1   05:37.0  2009-01-01 02:05:37 UTC           -73.978433           40.744781   \n",
       "2   07:49.0  2009-01-01 02:07:49 UTC           -73.984291           40.667851   \n",
       "3   51:52.0  2009-01-01 02:51:52 UTC           -73.956172           40.771965   \n",
       "4   31:36.0  2009-01-01 03:31:36 UTC           -73.980325           40.734579   \n",
       "\n",
       "   longitude_of_dropoff  latitude_of_dropoff  no_of_passenger  amount  \n",
       "0            -73.993356            40.742642                1     8.6  \n",
       "1            -74.004713            40.734328                1    11.0  \n",
       "2            -74.006015            40.735481                3    17.8  \n",
       "3            -73.991027            40.751035                2    10.2  \n",
       "4            -74.014711            40.717868                3    15.4  "
      ]
     },
     "execution_count": 5,
     "metadata": {},
     "output_type": "execute_result"
    }
   ],
   "source": [
    "taxi.head()"
   ]
  },
  {
   "cell_type": "code",
   "execution_count": 6,
   "id": "08cde69c",
   "metadata": {},
   "outputs": [
    {
     "data": {
      "text/html": [
       "<div>\n",
       "<style scoped>\n",
       "    .dataframe tbody tr th:only-of-type {\n",
       "        vertical-align: middle;\n",
       "    }\n",
       "\n",
       "    .dataframe tbody tr th {\n",
       "        vertical-align: top;\n",
       "    }\n",
       "\n",
       "    .dataframe thead th {\n",
       "        text-align: right;\n",
       "    }\n",
       "</style>\n",
       "<table border=\"1\" class=\"dataframe\">\n",
       "  <thead>\n",
       "    <tr style=\"text-align: right;\">\n",
       "      <th></th>\n",
       "      <th>unique_id</th>\n",
       "      <th>date_time_of_pickup</th>\n",
       "      <th>longitude_of_pickup</th>\n",
       "      <th>latitude_of_pickup</th>\n",
       "      <th>longitude_of_dropoff</th>\n",
       "      <th>latitude_of_dropoff</th>\n",
       "      <th>no_of_passenger</th>\n",
       "      <th>amount</th>\n",
       "    </tr>\n",
       "  </thead>\n",
       "  <tbody>\n",
       "    <tr>\n",
       "      <th>49995</th>\n",
       "      <td>59:31.0</td>\n",
       "      <td>2015-06-30 17:59:31 UTC</td>\n",
       "      <td>-73.932999</td>\n",
       "      <td>40.758709</td>\n",
       "      <td>-73.939651</td>\n",
       "      <td>40.751801</td>\n",
       "      <td>1</td>\n",
       "      <td>8.5</td>\n",
       "    </tr>\n",
       "    <tr>\n",
       "      <th>49996</th>\n",
       "      <td>14:39.0</td>\n",
       "      <td>2015-06-30 19:14:39 UTC</td>\n",
       "      <td>-73.982880</td>\n",
       "      <td>40.758121</td>\n",
       "      <td>-73.962357</td>\n",
       "      <td>40.770641</td>\n",
       "      <td>1</td>\n",
       "      <td>10.5</td>\n",
       "    </tr>\n",
       "    <tr>\n",
       "      <th>49997</th>\n",
       "      <td>42:23.0</td>\n",
       "      <td>2015-06-30 19:42:23 UTC</td>\n",
       "      <td>-73.991592</td>\n",
       "      <td>40.731472</td>\n",
       "      <td>-73.985100</td>\n",
       "      <td>40.723923</td>\n",
       "      <td>1</td>\n",
       "      <td>6.0</td>\n",
       "    </tr>\n",
       "    <tr>\n",
       "      <th>49998</th>\n",
       "      <td>50:04.0</td>\n",
       "      <td>2015-06-30 20:50:04 UTC</td>\n",
       "      <td>-73.979858</td>\n",
       "      <td>40.786270</td>\n",
       "      <td>-73.982391</td>\n",
       "      <td>40.771381</td>\n",
       "      <td>5</td>\n",
       "      <td>8.5</td>\n",
       "    </tr>\n",
       "    <tr>\n",
       "      <th>49999</th>\n",
       "      <td>42:39.0</td>\n",
       "      <td>2015-06-30 22:42:39 UTC</td>\n",
       "      <td>-73.997223</td>\n",
       "      <td>40.726227</td>\n",
       "      <td>-73.978622</td>\n",
       "      <td>40.734432</td>\n",
       "      <td>1</td>\n",
       "      <td>9.0</td>\n",
       "    </tr>\n",
       "  </tbody>\n",
       "</table>\n",
       "</div>"
      ],
      "text/plain": [
       "      unique_id      date_time_of_pickup  longitude_of_pickup  \\\n",
       "49995   59:31.0  2015-06-30 17:59:31 UTC           -73.932999   \n",
       "49996   14:39.0  2015-06-30 19:14:39 UTC           -73.982880   \n",
       "49997   42:23.0  2015-06-30 19:42:23 UTC           -73.991592   \n",
       "49998   50:04.0  2015-06-30 20:50:04 UTC           -73.979858   \n",
       "49999   42:39.0  2015-06-30 22:42:39 UTC           -73.997223   \n",
       "\n",
       "       latitude_of_pickup  longitude_of_dropoff  latitude_of_dropoff  \\\n",
       "49995           40.758709            -73.939651            40.751801   \n",
       "49996           40.758121            -73.962357            40.770641   \n",
       "49997           40.731472            -73.985100            40.723923   \n",
       "49998           40.786270            -73.982391            40.771381   \n",
       "49999           40.726227            -73.978622            40.734432   \n",
       "\n",
       "       no_of_passenger  amount  \n",
       "49995                1     8.5  \n",
       "49996                1    10.5  \n",
       "49997                1     6.0  \n",
       "49998                5     8.5  \n",
       "49999                1     9.0  "
      ]
     },
     "execution_count": 6,
     "metadata": {},
     "output_type": "execute_result"
    }
   ],
   "source": [
    "taxi.tail()"
   ]
  },
  {
   "cell_type": "code",
   "execution_count": 7,
   "id": "e22e6562",
   "metadata": {},
   "outputs": [
    {
     "name": "stdout",
     "output_type": "stream",
     "text": [
      "<class 'pandas.core.frame.DataFrame'>\n",
      "RangeIndex: 50000 entries, 0 to 49999\n",
      "Data columns (total 8 columns):\n",
      " #   Column                Non-Null Count  Dtype  \n",
      "---  ------                --------------  -----  \n",
      " 0   unique_id             50000 non-null  object \n",
      " 1   date_time_of_pickup   50000 non-null  object \n",
      " 2   longitude_of_pickup   50000 non-null  float64\n",
      " 3   latitude_of_pickup    50000 non-null  float64\n",
      " 4   longitude_of_dropoff  50000 non-null  float64\n",
      " 5   latitude_of_dropoff   50000 non-null  float64\n",
      " 6   no_of_passenger       50000 non-null  int64  \n",
      " 7   amount                50000 non-null  float64\n",
      "dtypes: float64(5), int64(1), object(2)\n",
      "memory usage: 3.1+ MB\n"
     ]
    }
   ],
   "source": [
    "# Summary of Dataframe\n",
    "taxi.info()"
   ]
  },
  {
   "cell_type": "code",
   "execution_count": 8,
   "id": "8547e087",
   "metadata": {},
   "outputs": [],
   "source": [
    "# Changing datatype of 'date_time_of_pickup' to date_time\n",
    "taxi.date_time_of_pickup = pd.to_datetime(taxi.date_time_of_pickup)"
   ]
  },
  {
   "cell_type": "code",
   "execution_count": 9,
   "id": "f5f70240",
   "metadata": {},
   "outputs": [
    {
     "data": {
      "text/html": [
       "<div>\n",
       "<style scoped>\n",
       "    .dataframe tbody tr th:only-of-type {\n",
       "        vertical-align: middle;\n",
       "    }\n",
       "\n",
       "    .dataframe tbody tr th {\n",
       "        vertical-align: top;\n",
       "    }\n",
       "\n",
       "    .dataframe thead th {\n",
       "        text-align: right;\n",
       "    }\n",
       "</style>\n",
       "<table border=\"1\" class=\"dataframe\">\n",
       "  <thead>\n",
       "    <tr style=\"text-align: right;\">\n",
       "      <th></th>\n",
       "      <th>longitude_of_pickup</th>\n",
       "      <th>latitude_of_pickup</th>\n",
       "      <th>longitude_of_dropoff</th>\n",
       "      <th>latitude_of_dropoff</th>\n",
       "      <th>no_of_passenger</th>\n",
       "      <th>amount</th>\n",
       "    </tr>\n",
       "  </thead>\n",
       "  <tbody>\n",
       "    <tr>\n",
       "      <th>count</th>\n",
       "      <td>50000.000000</td>\n",
       "      <td>50000.000000</td>\n",
       "      <td>50000.000000</td>\n",
       "      <td>50000.000000</td>\n",
       "      <td>50000.000000</td>\n",
       "      <td>50000.000000</td>\n",
       "    </tr>\n",
       "    <tr>\n",
       "      <th>mean</th>\n",
       "      <td>-72.509756</td>\n",
       "      <td>39.933759</td>\n",
       "      <td>-72.504616</td>\n",
       "      <td>39.926251</td>\n",
       "      <td>1.667840</td>\n",
       "      <td>11.364171</td>\n",
       "    </tr>\n",
       "    <tr>\n",
       "      <th>std</th>\n",
       "      <td>10.393860</td>\n",
       "      <td>6.224857</td>\n",
       "      <td>10.407570</td>\n",
       "      <td>6.014737</td>\n",
       "      <td>1.289195</td>\n",
       "      <td>9.685557</td>\n",
       "    </tr>\n",
       "    <tr>\n",
       "      <th>min</th>\n",
       "      <td>-75.423848</td>\n",
       "      <td>-74.006893</td>\n",
       "      <td>-84.654241</td>\n",
       "      <td>-74.006377</td>\n",
       "      <td>0.000000</td>\n",
       "      <td>-5.000000</td>\n",
       "    </tr>\n",
       "    <tr>\n",
       "      <th>25%</th>\n",
       "      <td>-73.992062</td>\n",
       "      <td>40.734880</td>\n",
       "      <td>-73.991152</td>\n",
       "      <td>40.734372</td>\n",
       "      <td>1.000000</td>\n",
       "      <td>6.000000</td>\n",
       "    </tr>\n",
       "    <tr>\n",
       "      <th>50%</th>\n",
       "      <td>-73.981840</td>\n",
       "      <td>40.752678</td>\n",
       "      <td>-73.980082</td>\n",
       "      <td>40.753372</td>\n",
       "      <td>1.000000</td>\n",
       "      <td>8.500000</td>\n",
       "    </tr>\n",
       "    <tr>\n",
       "      <th>75%</th>\n",
       "      <td>-73.967148</td>\n",
       "      <td>40.767360</td>\n",
       "      <td>-73.963584</td>\n",
       "      <td>40.768167</td>\n",
       "      <td>2.000000</td>\n",
       "      <td>12.500000</td>\n",
       "    </tr>\n",
       "    <tr>\n",
       "      <th>max</th>\n",
       "      <td>40.783472</td>\n",
       "      <td>401.083332</td>\n",
       "      <td>40.851027</td>\n",
       "      <td>43.415190</td>\n",
       "      <td>6.000000</td>\n",
       "      <td>200.000000</td>\n",
       "    </tr>\n",
       "  </tbody>\n",
       "</table>\n",
       "</div>"
      ],
      "text/plain": [
       "       longitude_of_pickup  latitude_of_pickup  longitude_of_dropoff  \\\n",
       "count         50000.000000        50000.000000          50000.000000   \n",
       "mean            -72.509756           39.933759            -72.504616   \n",
       "std              10.393860            6.224857             10.407570   \n",
       "min             -75.423848          -74.006893            -84.654241   \n",
       "25%             -73.992062           40.734880            -73.991152   \n",
       "50%             -73.981840           40.752678            -73.980082   \n",
       "75%             -73.967148           40.767360            -73.963584   \n",
       "max              40.783472          401.083332             40.851027   \n",
       "\n",
       "       latitude_of_dropoff  no_of_passenger        amount  \n",
       "count         50000.000000     50000.000000  50000.000000  \n",
       "mean             39.926251         1.667840     11.364171  \n",
       "std               6.014737         1.289195      9.685557  \n",
       "min             -74.006377         0.000000     -5.000000  \n",
       "25%              40.734372         1.000000      6.000000  \n",
       "50%              40.753372         1.000000      8.500000  \n",
       "75%              40.768167         2.000000     12.500000  \n",
       "max              43.415190         6.000000    200.000000  "
      ]
     },
     "execution_count": 9,
     "metadata": {},
     "output_type": "execute_result"
    }
   ],
   "source": [
    "# Checking statistical summary \n",
    "taxi.describe()"
   ]
  },
  {
   "cell_type": "code",
   "execution_count": 10,
   "id": "1be5de7f",
   "metadata": {},
   "outputs": [
    {
     "data": {
      "text/plain": [
       "unique_id               0\n",
       "date_time_of_pickup     0\n",
       "longitude_of_pickup     0\n",
       "latitude_of_pickup      0\n",
       "longitude_of_dropoff    0\n",
       "latitude_of_dropoff     0\n",
       "no_of_passenger         0\n",
       "amount                  0\n",
       "dtype: int64"
      ]
     },
     "execution_count": 10,
     "metadata": {},
     "output_type": "execute_result"
    }
   ],
   "source": [
    "# Checking missing values\n",
    "taxi.isnull().sum()"
   ]
  },
  {
   "cell_type": "code",
   "execution_count": 11,
   "id": "3aea7150",
   "metadata": {},
   "outputs": [
    {
     "data": {
      "text/plain": [
       "unique_id               0\n",
       "date_time_of_pickup     0\n",
       "longitude_of_pickup     0\n",
       "latitude_of_pickup      0\n",
       "longitude_of_dropoff    0\n",
       "latitude_of_dropoff     0\n",
       "no_of_passenger         0\n",
       "amount                  0\n",
       "dtype: int64"
      ]
     },
     "execution_count": 11,
     "metadata": {},
     "output_type": "execute_result"
    }
   ],
   "source": [
    "# Checking not available values\n",
    "taxi.isna().sum()"
   ]
  },
  {
   "cell_type": "code",
   "execution_count": 12,
   "id": "ed542382",
   "metadata": {},
   "outputs": [
    {
     "data": {
      "text/plain": [
       "False"
      ]
     },
     "execution_count": 12,
     "metadata": {},
     "output_type": "execute_result"
    }
   ],
   "source": [
    "# Checking duplicates\n",
    "taxi.duplicated().any()"
   ]
  },
  {
   "cell_type": "code",
   "execution_count": 19,
   "id": "c5002238",
   "metadata": {},
   "outputs": [],
   "source": [
    "# In this dataset we have some incorrect coordinates \n",
    "# lines of longitude have X-coordinates between -180 and +180 degrees and lines of latitudes have Y-values that are between\n",
    "#-90 and +90 degrees.\n",
    "incorrect_coordinates = taxi.loc[(taxi.latitude_of_pickup > 90) |(taxi.latitude_of_pickup < -90) |\n",
    "                                   (taxi.latitude_of_dropoff > 90) |(taxi.latitude_of_dropoff < -90) |\n",
    "                                   (taxi.longitude_of_pickup > 180) |(taxi.longitude_of_pickup < -180) |\n",
    "                                   (taxi.longitude_of_dropoff > 90) |(taxi.longitude_of_dropoff < -90)\n",
    "                                    ].index\n",
    "\n",
    "taxi.drop(incorrect_coordinates, inplace = True)     # Removing those indexes"
   ]
  },
  {
   "cell_type": "code",
   "execution_count": 24,
   "id": "6dc43c77",
   "metadata": {},
   "outputs": [],
   "source": [
    "# Extracting day, month, year and hour data from 'date_time_of_pickup'\n",
    "taxi['month'] = taxi['date_time_of_pickup'].dt.month\n",
    "taxi['year'] = taxi['date_time_of_pickup'].dt.year\n",
    "taxi['day'] = taxi['date_time_of_pickup'].dt.day\n",
    "taxi['hour'] = taxi['date_time_of_pickup'].dt.hour"
   ]
  },
  {
   "cell_type": "code",
   "execution_count": 25,
   "id": "457bee20",
   "metadata": {},
   "outputs": [],
   "source": [
    "# Extracing day of week from date_time_of_pickup and creating new binary feature for recognizing weekend\n",
    "taxi['day_of_week'] = taxi['date_time_of_pickup'].dt.dayofweek\n",
    "taxi['is_weekend'] = taxi['date_time_of_pickup'].dt.weekday // 5 == 1"
   ]
  },
  {
   "cell_type": "code",
   "execution_count": 26,
   "id": "98c47c03",
   "metadata": {},
   "outputs": [],
   "source": [
    "# Categorical encoding of 'is_weekend' feature\n",
    "taxi.is_weekend = taxi.is_weekend.map({False:0,True:1})"
   ]
  },
  {
   "cell_type": "code",
   "execution_count": 27,
   "id": "bc142af9",
   "metadata": {},
   "outputs": [],
   "source": [
    "# Changing datatype\n",
    "taxi.is_weekend = taxi.is_weekend.astype('category')\n",
    "taxi.month = taxi.month.astype('category')\n",
    "taxi.day_of_week = taxi.day_of_week.astype('category')"
   ]
  },
  {
   "cell_type": "code",
   "execution_count": 28,
   "id": "65dfdf62",
   "metadata": {},
   "outputs": [],
   "source": [
    "# Taxi fare cannot be negative so removing those instances\n",
    "taxi.drop(taxi[taxi.amount < 0].index, inplace=True)"
   ]
  },
  {
   "cell_type": "code",
   "execution_count": 29,
   "id": "50585312",
   "metadata": {},
   "outputs": [],
   "source": [
    "# taxi fare cannot be zero so removing those records\n",
    "taxi.drop(taxi[taxi.amount == 0].index, inplace=True)"
   ]
  },
  {
   "cell_type": "code",
   "execution_count": 30,
   "id": "06a5e257",
   "metadata": {},
   "outputs": [],
   "source": [
    "# Number of passengers in taxi cannot be zero\n",
    "taxi.drop(taxi[taxi.no_of_passenger == 0].index, inplace=True)"
   ]
  },
  {
   "cell_type": "markdown",
   "id": "98e3c819",
   "metadata": {},
   "source": [
    "- This dataset has now total 10 Independant variables and 'amount' is our target variable.\n",
    "- This dataset contains records of taxi fare of total 7 years (2009-2015).\n",
    "- Amount varies from 0 to 200 and max number of passengers is six."
   ]
  },
  {
   "cell_type": "code",
   "execution_count": null,
   "id": "162c3af7",
   "metadata": {},
   "outputs": [],
   "source": []
  },
  {
   "cell_type": "markdown",
   "id": "8cbc6c8d",
   "metadata": {},
   "source": [
    "## *Exploratory Data Analysis*"
   ]
  },
  {
   "cell_type": "code",
   "execution_count": 37,
   "id": "9df9929e",
   "metadata": {},
   "outputs": [
    {
     "data": {
      "image/png": "[encoded data removed]",
      "text/plain": [
       "<Figure size 800x600 with 4 Axes>"
      ]
     },
     "metadata": {},
     "output_type": "display_data"
    }
   ],
   "source": [
    "# Distribution of continuous variables\n",
    "\n",
    "plt.figure(1,figsize=(8,6))\n",
    "plt.subplot(2,2,1)\n",
    "sns.histplot(x=taxi.no_of_passenger, kde=True)\n",
    "plt.title('Distribution of no_of_passenger')\n",
    "\n",
    "plt.subplot(2,2,2)\n",
    "sns.histplot(x=taxi.amount, kde=True)\n",
    "plt.title('Distribution of amount')\n",
    "\n",
    "plt.subplot(2,2,3)\n",
    "sns.histplot(x=taxi.day, kde=True)\n",
    "plt.title('Distribution of day')\n",
    "\n",
    "plt.subplot(2,2,4)\n",
    "sns.histplot(x=taxi.hour, kde=True)\n",
    "plt.title('Distribution of hour')\n",
    "\n",
    "pl.subplots_adjust(hspace=0.5, wspace=0.3)\n",
    "plt.show()"
   ]
  },
  {
   "cell_type": "code",
   "execution_count": 38,
   "id": "9001f326",
   "metadata": {},
   "outputs": [
    {
     "data": {
      "image/png": "[encoded data removed]",
      "text/plain": [
       "<Figure size 800x600 with 3 Axes>"
      ]
     },
     "metadata": {},
     "output_type": "display_data"
    }
   ],
   "source": [
    "# Countplot of variables\n",
    "plt.figure(1, figsize=(8,6))\n",
    "\n",
    "plt.subplot(2,2,1)\n",
    "sns.countplot(x=taxi.month)\n",
    "plt.title('Countplot of Month')\n",
    "\n",
    "plt.subplot(2,2,2)\n",
    "sns.countplot(x=taxi.day_of_week)\n",
    "plt.title('Countplot of day_of_week')\n",
    "\n",
    "plt.subplot(2,2,3)\n",
    "sns.countplot(x=taxi.is_weekend)\n",
    "plt.title('Countplot of is_weekend')\n",
    "\n",
    "pl.subplots_adjust(hspace=0.5, wspace=0.3)\n",
    "plt.show()"
   ]
  },
  {
   "cell_type": "code",
   "execution_count": 39,
   "id": "62b16f38",
   "metadata": {},
   "outputs": [
    {
     "data": {
      "image/png": "[encoded data removed]",
      "text/plain": [
       "<Figure size 1500x600 with 3 Axes>"
      ]
     },
     "metadata": {},
     "output_type": "display_data"
    }
   ],
   "source": [
    "# Barplot of features\n",
    "\n",
    "plt.figure(1, figsize=(15,6))\n",
    "\n",
    "plt.subplot(2,2,1)\n",
    "sns.barplot(x=taxi.hour, y=taxi.amount)\n",
    "\n",
    "plt.subplot(2,2,2)\n",
    "sns.barplot(x=taxi.day_of_week, y=taxi.amount)\n",
    "\n",
    "plt.subplot(2,2,3)\n",
    "sns.barplot(x=taxi.is_weekend, y=taxi.amount)\n",
    "\n",
    "pl.subplots_adjust(hspace=0.5, wspace=0.3)\n",
    "plt.suptitle('Variation with amount')\n",
    "plt.show()"
   ]
  },
  {
   "cell_type": "code",
   "execution_count": 40,
   "id": "1f661254",
   "metadata": {},
   "outputs": [
    {
     "data": {
      "image/png": "[encoded data removed]",
      "text/plain": [
       "<Figure size 1000x300 with 2 Axes>"
      ]
     },
     "metadata": {},
     "output_type": "display_data"
    }
   ],
   "source": [
    "# Time series plot\n",
    "\n",
    "plt.figure(2,figsize=(10,3))\n",
    "plt.subplot(1,2,1)\n",
    "e = pd.crosstab(index=taxi.day_of_week, columns=taxi.year, values=taxi.no_of_passenger, aggfunc='mean', margins=True)\n",
    "\n",
    "sns.lineplot(e.iloc[-1,:-1])\n",
    "plt.ylabel('No. of passengers')\n",
    "plt.title('Time series of mean No. of passengers')\n",
    "\n",
    "plt.subplot(1,2,2)\n",
    "d = pd.crosstab(index=taxi.day_of_week, columns=taxi.year, values=taxi.amount, aggfunc='mean', margins=True)\n",
    "\n",
    "sns.lineplot(d.iloc[-1,:-1])\n",
    "plt.ylabel('Amount')\n",
    "plt.title('Time series of mean fair price')\n",
    "pl.subplots_adjust(wspace=0.3)\n",
    "plt.show()"
   ]
  },
  {
   "cell_type": "code",
   "execution_count": 41,
   "id": "fb22eab5",
   "metadata": {},
   "outputs": [
    {
     "data": {
      "text/plain": [
       "<Axes: >"
      ]
     },
     "execution_count": 41,
     "metadata": {},
     "output_type": "execute_result"
    },
    {
     "data": {
      "image/png": "[encoded data removed]",
      "text/plain": [
       "<Figure size 1000x500 with 2 Axes>"
      ]
     },
     "metadata": {},
     "output_type": "display_data"
    }
   ],
   "source": [
    "plt.figure(1, figsize=(10,5))\n",
    "sns.heatmap(taxi.corr(), annot=True)"
   ]
  },
  {
   "cell_type": "markdown",
   "id": "f08f852e",
   "metadata": {},
   "source": [
    "- Maximum fare amount is 200 but number of fares is higher between the amount range of 0-25.\n",
    "- From distribution of the hour it is clear that no. of passengers are less during midnight to morning but at the same time fares are higher.\n",
    "- Number of average passengers are increased from 2009 to 2013 but after 2013 it is showing slight decline.\n",
    "- Looking at mean fare from 2003 to 2015 we can see increasing trend."
   ]
  },
  {
   "cell_type": "code",
   "execution_count": null,
   "id": "1ecf065e",
   "metadata": {},
   "outputs": [],
   "source": []
  },
  {
   "cell_type": "markdown",
   "id": "29941a9e",
   "metadata": {},
   "source": [
    "## *Feature selection*"
   ]
  },
  {
   "cell_type": "code",
   "execution_count": 42,
   "id": "0e515663",
   "metadata": {},
   "outputs": [],
   "source": [
    "# Splitting data\n",
    "x = taxi.drop(['unique_id', 'date_time_of_pickup','amount','year'], axis=1)\n",
    "y = taxi['amount']"
   ]
  },
  {
   "cell_type": "code",
   "execution_count": 43,
   "id": "202075f4",
   "metadata": {},
   "outputs": [],
   "source": [
    "from sklearn.feature_selection import SelectKBest, VarianceThreshold, RFECV, mutual_info_regression, f_regression, chi2\n",
    "from sklearn.ensemble import RandomForestRegressor\n",
    "from sklearn.tree import DecisionTreeRegressor\n",
    "from sklearn.linear_model import Lasso"
   ]
  },
  {
   "cell_type": "code",
   "execution_count": 44,
   "id": "63f2861b",
   "metadata": {},
   "outputs": [
    {
     "data": {
      "text/html": [
       "<style>#sk-container-id-1 {color: black;background-color: white;}#sk-container-id-1 pre{padding: 0;}#sk-container-id-1 div.sk-toggleable {background-color: white;}#sk-container-id-1 label.sk-toggleable__label {cursor: pointer;display: block;width: 100%;margin-bottom: 0;padding: 0.3em;box-sizing: border-box;text-align: center;}#sk-container-id-1 label.sk-toggleable__label-arrow:before {content: \"▸\";float: left;margin-right: 0.25em;color: #696969;}#sk-container-id-1 label.sk-toggleable__label-arrow:hover:before {color: black;}#sk-container-id-1 div.sk-estimator:hover label.sk-toggleable__label-arrow:before {color: black;}#sk-container-id-1 div.sk-toggleable__content {max-height: 0;max-width: 0;overflow: hidden;text-align: left;background-color: #f0f8ff;}#sk-container-id-1 div.sk-toggleable__content pre {margin: 0.2em;color: black;border-radius: 0.25em;background-color: #f0f8ff;}#sk-container-id-1 input.sk-toggleable__control:checked~div.sk-toggleable__content {max-height: 200px;max-width: 100%;overflow: auto;}#sk-container-id-1 input.sk-toggleable__control:checked~label.sk-toggleable__label-arrow:before {content: \"▾\";}#sk-container-id-1 div.sk-estimator input.sk-toggleable__control:checked~label.sk-toggleable__label {background-color: #d4ebff;}#sk-container-id-1 div.sk-label input.sk-toggleable__control:checked~label.sk-toggleable__label {background-color: #d4ebff;}#sk-container-id-1 input.sk-hidden--visually {border: 0;clip: rect(1px 1px 1px 1px);clip: rect(1px, 1px, 1px, 1px);height: 1px;margin: -1px;overflow: hidden;padding: 0;position: absolute;width: 1px;}#sk-container-id-1 div.sk-estimator {font-family: monospace;background-color: #f0f8ff;border: 1px dotted black;border-radius: 0.25em;box-sizing: border-box;margin-bottom: 0.5em;}#sk-container-id-1 div.sk-estimator:hover {background-color: #d4ebff;}#sk-container-id-1 div.sk-parallel-item::after {content: \"\";width: 100%;border-bottom: 1px solid gray;flex-grow: 1;}#sk-container-id-1 div.sk-label:hover label.sk-toggleable__label {background-color: #d4ebff;}#sk-container-id-1 div.sk-serial::before {content: \"\";position: absolute;border-left: 1px solid gray;box-sizing: border-box;top: 0;bottom: 0;left: 50%;z-index: 0;}#sk-container-id-1 div.sk-serial {display: flex;flex-direction: column;align-items: center;background-color: white;padding-right: 0.2em;padding-left: 0.2em;position: relative;}#sk-container-id-1 div.sk-item {position: relative;z-index: 1;}#sk-container-id-1 div.sk-parallel {display: flex;align-items: stretch;justify-content: center;background-color: white;position: relative;}#sk-container-id-1 div.sk-item::before, #sk-container-id-1 div.sk-parallel-item::before {content: \"\";position: absolute;border-left: 1px solid gray;box-sizing: border-box;top: 0;bottom: 0;left: 50%;z-index: -1;}#sk-container-id-1 div.sk-parallel-item {display: flex;flex-direction: column;z-index: 1;position: relative;background-color: white;}#sk-container-id-1 div.sk-parallel-item:first-child::after {align-self: flex-end;width: 50%;}#sk-container-id-1 div.sk-parallel-item:last-child::after {align-self: flex-start;width: 50%;}#sk-container-id-1 div.sk-parallel-item:only-child::after {width: 0;}#sk-container-id-1 div.sk-dashed-wrapped {border: 1px dashed gray;margin: 0 0.4em 0.5em 0.4em;box-sizing: border-box;padding-bottom: 0.4em;background-color: white;}#sk-container-id-1 div.sk-label label {font-family: monospace;font-weight: bold;display: inline-block;line-height: 1.2em;}#sk-container-id-1 div.sk-label-container {text-align: center;}#sk-container-id-1 div.sk-container {/* jupyter's `normalize.less` sets `[hidden] { display: none; }` but bootstrap.min.css set `[hidden] { display: none !important; }` so we also need the `!important` here to be able to override the default hidden behavior on the sphinx rendered scikit-learn.org. See: https://github.com/scikit-learn/scikit-learn/issues/21755 */display: inline-block !important;position: relative;}#sk-container-id-1 div.sk-text-repr-fallback {display: none;}</style><div id=\"sk-container-id-1\" class=\"sk-top-container\"><div class=\"sk-text-repr-fallback\"><pre>SelectKBest(k=&#x27;all&#x27;,\n",
       "            score_func=&lt;function mutual_info_regression at 0x000001F297A5ADD0&gt;)</pre><b>In a Jupyter environment, please rerun this cell to show the HTML representation or trust the notebook. <br />On GitHub, the HTML representation is unable to render, please try loading this page with nbviewer.org.</b></div><div class=\"sk-container\" hidden><div class=\"sk-item\"><div class=\"sk-estimator sk-toggleable\"><input class=\"sk-toggleable__control sk-hidden--visually\" id=\"sk-estimator-id-1\" type=\"checkbox\" checked><label for=\"sk-estimator-id-1\" class=\"sk-toggleable__label sk-toggleable__label-arrow\">SelectKBest</label><div class=\"sk-toggleable__content\"><pre>SelectKBest(k=&#x27;all&#x27;,\n",
       "            score_func=&lt;function mutual_info_regression at 0x000001F297A5ADD0&gt;)</pre></div></div></div></div></div>"
      ],
      "text/plain": [
       "SelectKBest(k='all',\n",
       "            score_func=<function mutual_info_regression at 0x000001F297A5ADD0>)"
      ]
     },
     "execution_count": 44,
     "metadata": {},
     "output_type": "execute_result"
    }
   ],
   "source": [
    "# Feature selection using SelectKBest with mutual_info\n",
    "select = SelectKBest(mutual_info_regression, k='all')\n",
    "select.fit(x,y)"
   ]
  },
  {
   "cell_type": "code",
   "execution_count": 45,
   "id": "c728599e",
   "metadata": {},
   "outputs": [
    {
     "data": {
      "text/html": [
       "<div>\n",
       "<style scoped>\n",
       "    .dataframe tbody tr th:only-of-type {\n",
       "        vertical-align: middle;\n",
       "    }\n",
       "\n",
       "    .dataframe tbody tr th {\n",
       "        vertical-align: top;\n",
       "    }\n",
       "\n",
       "    .dataframe thead th {\n",
       "        text-align: right;\n",
       "    }\n",
       "</style>\n",
       "<table border=\"1\" class=\"dataframe\">\n",
       "  <thead>\n",
       "    <tr style=\"text-align: right;\">\n",
       "      <th></th>\n",
       "      <th>Features</th>\n",
       "      <th>SelectKBest.score_</th>\n",
       "    </tr>\n",
       "  </thead>\n",
       "  <tbody>\n",
       "    <tr>\n",
       "      <th>2</th>\n",
       "      <td>longitude_of_dropoff</td>\n",
       "      <td>0.112207</td>\n",
       "    </tr>\n",
       "    <tr>\n",
       "      <th>3</th>\n",
       "      <td>latitude_of_dropoff</td>\n",
       "      <td>0.106558</td>\n",
       "    </tr>\n",
       "    <tr>\n",
       "      <th>0</th>\n",
       "      <td>longitude_of_pickup</td>\n",
       "      <td>0.093050</td>\n",
       "    </tr>\n",
       "    <tr>\n",
       "      <th>1</th>\n",
       "      <td>latitude_of_pickup</td>\n",
       "      <td>0.078261</td>\n",
       "    </tr>\n",
       "    <tr>\n",
       "      <th>5</th>\n",
       "      <td>month</td>\n",
       "      <td>0.010136</td>\n",
       "    </tr>\n",
       "    <tr>\n",
       "      <th>7</th>\n",
       "      <td>hour</td>\n",
       "      <td>0.010062</td>\n",
       "    </tr>\n",
       "    <tr>\n",
       "      <th>4</th>\n",
       "      <td>no_of_passenger</td>\n",
       "      <td>0.005663</td>\n",
       "    </tr>\n",
       "    <tr>\n",
       "      <th>8</th>\n",
       "      <td>day_of_week</td>\n",
       "      <td>0.000595</td>\n",
       "    </tr>\n",
       "    <tr>\n",
       "      <th>6</th>\n",
       "      <td>day</td>\n",
       "      <td>0.000000</td>\n",
       "    </tr>\n",
       "    <tr>\n",
       "      <th>9</th>\n",
       "      <td>is_weekend</td>\n",
       "      <td>0.000000</td>\n",
       "    </tr>\n",
       "  </tbody>\n",
       "</table>\n",
       "</div>"
      ],
      "text/plain": [
       "               Features  SelectKBest.score_\n",
       "2  longitude_of_dropoff            0.112207\n",
       "3   latitude_of_dropoff            0.106558\n",
       "0   longitude_of_pickup            0.093050\n",
       "1    latitude_of_pickup            0.078261\n",
       "5                 month            0.010136\n",
       "7                  hour            0.010062\n",
       "4       no_of_passenger            0.005663\n",
       "8           day_of_week            0.000595\n",
       "6                   day            0.000000\n",
       "9            is_weekend            0.000000"
      ]
     },
     "execution_count": 45,
     "metadata": {},
     "output_type": "execute_result"
    }
   ],
   "source": [
    "feature_importance = pd.DataFrame({'Features':x.columns, 'SelectKBest.score_':select.scores_})\n",
    "feature_importance.sort_values('SelectKBest.score_', ascending=False)"
   ]
  },
  {
   "cell_type": "code",
   "execution_count": null,
   "id": "be12192b",
   "metadata": {},
   "outputs": [],
   "source": []
  },
  {
   "cell_type": "code",
   "execution_count": 46,
   "id": "6f715333",
   "metadata": {},
   "outputs": [
    {
     "data": {
      "text/html": [
       "<style>#sk-container-id-2 {color: black;background-color: white;}#sk-container-id-2 pre{padding: 0;}#sk-container-id-2 div.sk-toggleable {background-color: white;}#sk-container-id-2 label.sk-toggleable__label {cursor: pointer;display: block;width: 100%;margin-bottom: 0;padding: 0.3em;box-sizing: border-box;text-align: center;}#sk-container-id-2 label.sk-toggleable__label-arrow:before {content: \"▸\";float: left;margin-right: 0.25em;color: #696969;}#sk-container-id-2 label.sk-toggleable__label-arrow:hover:before {color: black;}#sk-container-id-2 div.sk-estimator:hover label.sk-toggleable__label-arrow:before {color: black;}#sk-container-id-2 div.sk-toggleable__content {max-height: 0;max-width: 0;overflow: hidden;text-align: left;background-color: #f0f8ff;}#sk-container-id-2 div.sk-toggleable__content pre {margin: 0.2em;color: black;border-radius: 0.25em;background-color: #f0f8ff;}#sk-container-id-2 input.sk-toggleable__control:checked~div.sk-toggleable__content {max-height: 200px;max-width: 100%;overflow: auto;}#sk-container-id-2 input.sk-toggleable__control:checked~label.sk-toggleable__label-arrow:before {content: \"▾\";}#sk-container-id-2 div.sk-estimator input.sk-toggleable__control:checked~label.sk-toggleable__label {background-color: #d4ebff;}#sk-container-id-2 div.sk-label input.sk-toggleable__control:checked~label.sk-toggleable__label {background-color: #d4ebff;}#sk-container-id-2 input.sk-hidden--visually {border: 0;clip: rect(1px 1px 1px 1px);clip: rect(1px, 1px, 1px, 1px);height: 1px;margin: -1px;overflow: hidden;padding: 0;position: absolute;width: 1px;}#sk-container-id-2 div.sk-estimator {font-family: monospace;background-color: #f0f8ff;border: 1px dotted black;border-radius: 0.25em;box-sizing: border-box;margin-bottom: 0.5em;}#sk-container-id-2 div.sk-estimator:hover {background-color: #d4ebff;}#sk-container-id-2 div.sk-parallel-item::after {content: \"\";width: 100%;border-bottom: 1px solid gray;flex-grow: 1;}#sk-container-id-2 div.sk-label:hover label.sk-toggleable__label {background-color: #d4ebff;}#sk-container-id-2 div.sk-serial::before {content: \"\";position: absolute;border-left: 1px solid gray;box-sizing: border-box;top: 0;bottom: 0;left: 50%;z-index: 0;}#sk-container-id-2 div.sk-serial {display: flex;flex-direction: column;align-items: center;background-color: white;padding-right: 0.2em;padding-left: 0.2em;position: relative;}#sk-container-id-2 div.sk-item {position: relative;z-index: 1;}#sk-container-id-2 div.sk-parallel {display: flex;align-items: stretch;justify-content: center;background-color: white;position: relative;}#sk-container-id-2 div.sk-item::before, #sk-container-id-2 div.sk-parallel-item::before {content: \"\";position: absolute;border-left: 1px solid gray;box-sizing: border-box;top: 0;bottom: 0;left: 50%;z-index: -1;}#sk-container-id-2 div.sk-parallel-item {display: flex;flex-direction: column;z-index: 1;position: relative;background-color: white;}#sk-container-id-2 div.sk-parallel-item:first-child::after {align-self: flex-end;width: 50%;}#sk-container-id-2 div.sk-parallel-item:last-child::after {align-self: flex-start;width: 50%;}#sk-container-id-2 div.sk-parallel-item:only-child::after {width: 0;}#sk-container-id-2 div.sk-dashed-wrapped {border: 1px dashed gray;margin: 0 0.4em 0.5em 0.4em;box-sizing: border-box;padding-bottom: 0.4em;background-color: white;}#sk-container-id-2 div.sk-label label {font-family: monospace;font-weight: bold;display: inline-block;line-height: 1.2em;}#sk-container-id-2 div.sk-label-container {text-align: center;}#sk-container-id-2 div.sk-container {/* jupyter's `normalize.less` sets `[hidden] { display: none; }` but bootstrap.min.css set `[hidden] { display: none !important; }` so we also need the `!important` here to be able to override the default hidden behavior on the sphinx rendered scikit-learn.org. See: https://github.com/scikit-learn/scikit-learn/issues/21755 */display: inline-block !important;position: relative;}#sk-container-id-2 div.sk-text-repr-fallback {display: none;}</style><div id=\"sk-container-id-2\" class=\"sk-top-container\"><div class=\"sk-text-repr-fallback\"><pre>RandomForestRegressor()</pre><b>In a Jupyter environment, please rerun this cell to show the HTML representation or trust the notebook. <br />On GitHub, the HTML representation is unable to render, please try loading this page with nbviewer.org.</b></div><div class=\"sk-container\" hidden><div class=\"sk-item\"><div class=\"sk-estimator sk-toggleable\"><input class=\"sk-toggleable__control sk-hidden--visually\" id=\"sk-estimator-id-2\" type=\"checkbox\" checked><label for=\"sk-estimator-id-2\" class=\"sk-toggleable__label sk-toggleable__label-arrow\">RandomForestRegressor</label><div class=\"sk-toggleable__content\"><pre>RandomForestRegressor()</pre></div></div></div></div></div>"
      ],
      "text/plain": [
       "RandomForestRegressor()"
      ]
     },
     "execution_count": 46,
     "metadata": {},
     "output_type": "execute_result"
    }
   ],
   "source": [
    "# Feature Selection using Random Forest\n",
    "\n",
    "rf = RandomForestRegressor()\n",
    "rf.fit(x,y)"
   ]
  },
  {
   "cell_type": "code",
   "execution_count": 47,
   "id": "d47f1514",
   "metadata": {},
   "outputs": [
    {
     "data": {
      "text/html": [
       "<div>\n",
       "<style scoped>\n",
       "    .dataframe tbody tr th:only-of-type {\n",
       "        vertical-align: middle;\n",
       "    }\n",
       "\n",
       "    .dataframe tbody tr th {\n",
       "        vertical-align: top;\n",
       "    }\n",
       "\n",
       "    .dataframe thead th {\n",
       "        text-align: right;\n",
       "    }\n",
       "</style>\n",
       "<table border=\"1\" class=\"dataframe\">\n",
       "  <thead>\n",
       "    <tr style=\"text-align: right;\">\n",
       "      <th></th>\n",
       "      <th>Features</th>\n",
       "      <th>SelectKBest.score_</th>\n",
       "      <th>RF.feature_importances_</th>\n",
       "    </tr>\n",
       "  </thead>\n",
       "  <tbody>\n",
       "    <tr>\n",
       "      <th>2</th>\n",
       "      <td>longitude_of_dropoff</td>\n",
       "      <td>0.112207</td>\n",
       "      <td>0.388413</td>\n",
       "    </tr>\n",
       "    <tr>\n",
       "      <th>0</th>\n",
       "      <td>longitude_of_pickup</td>\n",
       "      <td>0.093050</td>\n",
       "      <td>0.241340</td>\n",
       "    </tr>\n",
       "    <tr>\n",
       "      <th>3</th>\n",
       "      <td>latitude_of_dropoff</td>\n",
       "      <td>0.106558</td>\n",
       "      <td>0.159765</td>\n",
       "    </tr>\n",
       "    <tr>\n",
       "      <th>1</th>\n",
       "      <td>latitude_of_pickup</td>\n",
       "      <td>0.078261</td>\n",
       "      <td>0.125240</td>\n",
       "    </tr>\n",
       "    <tr>\n",
       "      <th>7</th>\n",
       "      <td>hour</td>\n",
       "      <td>0.010062</td>\n",
       "      <td>0.022727</td>\n",
       "    </tr>\n",
       "    <tr>\n",
       "      <th>6</th>\n",
       "      <td>day</td>\n",
       "      <td>0.000000</td>\n",
       "      <td>0.022250</td>\n",
       "    </tr>\n",
       "    <tr>\n",
       "      <th>5</th>\n",
       "      <td>month</td>\n",
       "      <td>0.010136</td>\n",
       "      <td>0.018383</td>\n",
       "    </tr>\n",
       "    <tr>\n",
       "      <th>8</th>\n",
       "      <td>day_of_week</td>\n",
       "      <td>0.000595</td>\n",
       "      <td>0.012271</td>\n",
       "    </tr>\n",
       "    <tr>\n",
       "      <th>4</th>\n",
       "      <td>no_of_passenger</td>\n",
       "      <td>0.005663</td>\n",
       "      <td>0.007595</td>\n",
       "    </tr>\n",
       "    <tr>\n",
       "      <th>9</th>\n",
       "      <td>is_weekend</td>\n",
       "      <td>0.000000</td>\n",
       "      <td>0.002017</td>\n",
       "    </tr>\n",
       "  </tbody>\n",
       "</table>\n",
       "</div>"
      ],
      "text/plain": [
       "               Features  SelectKBest.score_  RF.feature_importances_\n",
       "2  longitude_of_dropoff            0.112207                 0.388413\n",
       "0   longitude_of_pickup            0.093050                 0.241340\n",
       "3   latitude_of_dropoff            0.106558                 0.159765\n",
       "1    latitude_of_pickup            0.078261                 0.125240\n",
       "7                  hour            0.010062                 0.022727\n",
       "6                   day            0.000000                 0.022250\n",
       "5                 month            0.010136                 0.018383\n",
       "8           day_of_week            0.000595                 0.012271\n",
       "4       no_of_passenger            0.005663                 0.007595\n",
       "9            is_weekend            0.000000                 0.002017"
      ]
     },
     "execution_count": 47,
     "metadata": {},
     "output_type": "execute_result"
    }
   ],
   "source": [
    "feature_importance['RF.feature_importances_'] = rf.feature_importances_\n",
    "feature_importance.sort_values('RF.feature_importances_', ascending=False)"
   ]
  },
  {
   "cell_type": "code",
   "execution_count": null,
   "id": "b4f508af",
   "metadata": {},
   "outputs": [],
   "source": []
  },
  {
   "cell_type": "code",
   "execution_count": 48,
   "id": "fadf7019",
   "metadata": {},
   "outputs": [
    {
     "data": {
      "text/html": [
       "<style>#sk-container-id-3 {color: black;background-color: white;}#sk-container-id-3 pre{padding: 0;}#sk-container-id-3 div.sk-toggleable {background-color: white;}#sk-container-id-3 label.sk-toggleable__label {cursor: pointer;display: block;width: 100%;margin-bottom: 0;padding: 0.3em;box-sizing: border-box;text-align: center;}#sk-container-id-3 label.sk-toggleable__label-arrow:before {content: \"▸\";float: left;margin-right: 0.25em;color: #696969;}#sk-container-id-3 label.sk-toggleable__label-arrow:hover:before {color: black;}#sk-container-id-3 div.sk-estimator:hover label.sk-toggleable__label-arrow:before {color: black;}#sk-container-id-3 div.sk-toggleable__content {max-height: 0;max-width: 0;overflow: hidden;text-align: left;background-color: #f0f8ff;}#sk-container-id-3 div.sk-toggleable__content pre {margin: 0.2em;color: black;border-radius: 0.25em;background-color: #f0f8ff;}#sk-container-id-3 input.sk-toggleable__control:checked~div.sk-toggleable__content {max-height: 200px;max-width: 100%;overflow: auto;}#sk-container-id-3 input.sk-toggleable__control:checked~label.sk-toggleable__label-arrow:before {content: \"▾\";}#sk-container-id-3 div.sk-estimator input.sk-toggleable__control:checked~label.sk-toggleable__label {background-color: #d4ebff;}#sk-container-id-3 div.sk-label input.sk-toggleable__control:checked~label.sk-toggleable__label {background-color: #d4ebff;}#sk-container-id-3 input.sk-hidden--visually {border: 0;clip: rect(1px 1px 1px 1px);clip: rect(1px, 1px, 1px, 1px);height: 1px;margin: -1px;overflow: hidden;padding: 0;position: absolute;width: 1px;}#sk-container-id-3 div.sk-estimator {font-family: monospace;background-color: #f0f8ff;border: 1px dotted black;border-radius: 0.25em;box-sizing: border-box;margin-bottom: 0.5em;}#sk-container-id-3 div.sk-estimator:hover {background-color: #d4ebff;}#sk-container-id-3 div.sk-parallel-item::after {content: \"\";width: 100%;border-bottom: 1px solid gray;flex-grow: 1;}#sk-container-id-3 div.sk-label:hover label.sk-toggleable__label {background-color: #d4ebff;}#sk-container-id-3 div.sk-serial::before {content: \"\";position: absolute;border-left: 1px solid gray;box-sizing: border-box;top: 0;bottom: 0;left: 50%;z-index: 0;}#sk-container-id-3 div.sk-serial {display: flex;flex-direction: column;align-items: center;background-color: white;padding-right: 0.2em;padding-left: 0.2em;position: relative;}#sk-container-id-3 div.sk-item {position: relative;z-index: 1;}#sk-container-id-3 div.sk-parallel {display: flex;align-items: stretch;justify-content: center;background-color: white;position: relative;}#sk-container-id-3 div.sk-item::before, #sk-container-id-3 div.sk-parallel-item::before {content: \"\";position: absolute;border-left: 1px solid gray;box-sizing: border-box;top: 0;bottom: 0;left: 50%;z-index: -1;}#sk-container-id-3 div.sk-parallel-item {display: flex;flex-direction: column;z-index: 1;position: relative;background-color: white;}#sk-container-id-3 div.sk-parallel-item:first-child::after {align-self: flex-end;width: 50%;}#sk-container-id-3 div.sk-parallel-item:last-child::after {align-self: flex-start;width: 50%;}#sk-container-id-3 div.sk-parallel-item:only-child::after {width: 0;}#sk-container-id-3 div.sk-dashed-wrapped {border: 1px dashed gray;margin: 0 0.4em 0.5em 0.4em;box-sizing: border-box;padding-bottom: 0.4em;background-color: white;}#sk-container-id-3 div.sk-label label {font-family: monospace;font-weight: bold;display: inline-block;line-height: 1.2em;}#sk-container-id-3 div.sk-label-container {text-align: center;}#sk-container-id-3 div.sk-container {/* jupyter's `normalize.less` sets `[hidden] { display: none; }` but bootstrap.min.css set `[hidden] { display: none !important; }` so we also need the `!important` here to be able to override the default hidden behavior on the sphinx rendered scikit-learn.org. See: https://github.com/scikit-learn/scikit-learn/issues/21755 */display: inline-block !important;position: relative;}#sk-container-id-3 div.sk-text-repr-fallback {display: none;}</style><div id=\"sk-container-id-3\" class=\"sk-top-container\"><div class=\"sk-text-repr-fallback\"><pre>DecisionTreeRegressor()</pre><b>In a Jupyter environment, please rerun this cell to show the HTML representation or trust the notebook. <br />On GitHub, the HTML representation is unable to render, please try loading this page with nbviewer.org.</b></div><div class=\"sk-container\" hidden><div class=\"sk-item\"><div class=\"sk-estimator sk-toggleable\"><input class=\"sk-toggleable__control sk-hidden--visually\" id=\"sk-estimator-id-3\" type=\"checkbox\" checked><label for=\"sk-estimator-id-3\" class=\"sk-toggleable__label sk-toggleable__label-arrow\">DecisionTreeRegressor</label><div class=\"sk-toggleable__content\"><pre>DecisionTreeRegressor()</pre></div></div></div></div></div>"
      ],
      "text/plain": [
       "DecisionTreeRegressor()"
      ]
     },
     "execution_count": 48,
     "metadata": {},
     "output_type": "execute_result"
    }
   ],
   "source": [
    "# Feature Selection using Decision Tree\n",
    "dt = DecisionTreeRegressor()\n",
    "dt.fit(x,y)"
   ]
  },
  {
   "cell_type": "code",
   "execution_count": 49,
   "id": "49c8ccf7",
   "metadata": {},
   "outputs": [
    {
     "data": {
      "text/html": [
       "<div>\n",
       "<style scoped>\n",
       "    .dataframe tbody tr th:only-of-type {\n",
       "        vertical-align: middle;\n",
       "    }\n",
       "\n",
       "    .dataframe tbody tr th {\n",
       "        vertical-align: top;\n",
       "    }\n",
       "\n",
       "    .dataframe thead th {\n",
       "        text-align: right;\n",
       "    }\n",
       "</style>\n",
       "<table border=\"1\" class=\"dataframe\">\n",
       "  <thead>\n",
       "    <tr style=\"text-align: right;\">\n",
       "      <th></th>\n",
       "      <th>Features</th>\n",
       "      <th>SelectKBest.score_</th>\n",
       "      <th>RF.feature_importances_</th>\n",
       "      <th>DT.feature_importances_</th>\n",
       "    </tr>\n",
       "  </thead>\n",
       "  <tbody>\n",
       "    <tr>\n",
       "      <th>2</th>\n",
       "      <td>longitude_of_dropoff</td>\n",
       "      <td>0.112207</td>\n",
       "      <td>0.388413</td>\n",
       "      <td>0.401106</td>\n",
       "    </tr>\n",
       "    <tr>\n",
       "      <th>0</th>\n",
       "      <td>longitude_of_pickup</td>\n",
       "      <td>0.093050</td>\n",
       "      <td>0.241340</td>\n",
       "      <td>0.218082</td>\n",
       "    </tr>\n",
       "    <tr>\n",
       "      <th>3</th>\n",
       "      <td>latitude_of_dropoff</td>\n",
       "      <td>0.106558</td>\n",
       "      <td>0.159765</td>\n",
       "      <td>0.156156</td>\n",
       "    </tr>\n",
       "    <tr>\n",
       "      <th>1</th>\n",
       "      <td>latitude_of_pickup</td>\n",
       "      <td>0.078261</td>\n",
       "      <td>0.125240</td>\n",
       "      <td>0.136825</td>\n",
       "    </tr>\n",
       "    <tr>\n",
       "      <th>7</th>\n",
       "      <td>hour</td>\n",
       "      <td>0.010062</td>\n",
       "      <td>0.022727</td>\n",
       "      <td>0.020414</td>\n",
       "    </tr>\n",
       "    <tr>\n",
       "      <th>6</th>\n",
       "      <td>day</td>\n",
       "      <td>0.000000</td>\n",
       "      <td>0.022250</td>\n",
       "      <td>0.019898</td>\n",
       "    </tr>\n",
       "    <tr>\n",
       "      <th>5</th>\n",
       "      <td>month</td>\n",
       "      <td>0.010136</td>\n",
       "      <td>0.018383</td>\n",
       "      <td>0.019584</td>\n",
       "    </tr>\n",
       "    <tr>\n",
       "      <th>8</th>\n",
       "      <td>day_of_week</td>\n",
       "      <td>0.000595</td>\n",
       "      <td>0.012271</td>\n",
       "      <td>0.014293</td>\n",
       "    </tr>\n",
       "    <tr>\n",
       "      <th>4</th>\n",
       "      <td>no_of_passenger</td>\n",
       "      <td>0.005663</td>\n",
       "      <td>0.007595</td>\n",
       "      <td>0.011747</td>\n",
       "    </tr>\n",
       "    <tr>\n",
       "      <th>9</th>\n",
       "      <td>is_weekend</td>\n",
       "      <td>0.000000</td>\n",
       "      <td>0.002017</td>\n",
       "      <td>0.001894</td>\n",
       "    </tr>\n",
       "  </tbody>\n",
       "</table>\n",
       "</div>"
      ],
      "text/plain": [
       "               Features  SelectKBest.score_  RF.feature_importances_  \\\n",
       "2  longitude_of_dropoff            0.112207                 0.388413   \n",
       "0   longitude_of_pickup            0.093050                 0.241340   \n",
       "3   latitude_of_dropoff            0.106558                 0.159765   \n",
       "1    latitude_of_pickup            0.078261                 0.125240   \n",
       "7                  hour            0.010062                 0.022727   \n",
       "6                   day            0.000000                 0.022250   \n",
       "5                 month            0.010136                 0.018383   \n",
       "8           day_of_week            0.000595                 0.012271   \n",
       "4       no_of_passenger            0.005663                 0.007595   \n",
       "9            is_weekend            0.000000                 0.002017   \n",
       "\n",
       "   DT.feature_importances_  \n",
       "2                 0.401106  \n",
       "0                 0.218082  \n",
       "3                 0.156156  \n",
       "1                 0.136825  \n",
       "7                 0.020414  \n",
       "6                 0.019898  \n",
       "5                 0.019584  \n",
       "8                 0.014293  \n",
       "4                 0.011747  \n",
       "9                 0.001894  "
      ]
     },
     "execution_count": 49,
     "metadata": {},
     "output_type": "execute_result"
    }
   ],
   "source": [
    "feature_importance['DT.feature_importances_'] = dt.feature_importances_\n",
    "feature_importance.sort_values('DT.feature_importances_', ascending=False)"
   ]
  },
  {
   "cell_type": "code",
   "execution_count": null,
   "id": "5b3a5860",
   "metadata": {},
   "outputs": [],
   "source": []
  },
  {
   "cell_type": "code",
   "execution_count": 50,
   "id": "3c19580c",
   "metadata": {},
   "outputs": [
    {
     "data": {
      "text/html": [
       "<style>#sk-container-id-4 {color: black;background-color: white;}#sk-container-id-4 pre{padding: 0;}#sk-container-id-4 div.sk-toggleable {background-color: white;}#sk-container-id-4 label.sk-toggleable__label {cursor: pointer;display: block;width: 100%;margin-bottom: 0;padding: 0.3em;box-sizing: border-box;text-align: center;}#sk-container-id-4 label.sk-toggleable__label-arrow:before {content: \"▸\";float: left;margin-right: 0.25em;color: #696969;}#sk-container-id-4 label.sk-toggleable__label-arrow:hover:before {color: black;}#sk-container-id-4 div.sk-estimator:hover label.sk-toggleable__label-arrow:before {color: black;}#sk-container-id-4 div.sk-toggleable__content {max-height: 0;max-width: 0;overflow: hidden;text-align: left;background-color: #f0f8ff;}#sk-container-id-4 div.sk-toggleable__content pre {margin: 0.2em;color: black;border-radius: 0.25em;background-color: #f0f8ff;}#sk-container-id-4 input.sk-toggleable__control:checked~div.sk-toggleable__content {max-height: 200px;max-width: 100%;overflow: auto;}#sk-container-id-4 input.sk-toggleable__control:checked~label.sk-toggleable__label-arrow:before {content: \"▾\";}#sk-container-id-4 div.sk-estimator input.sk-toggleable__control:checked~label.sk-toggleable__label {background-color: #d4ebff;}#sk-container-id-4 div.sk-label input.sk-toggleable__control:checked~label.sk-toggleable__label {background-color: #d4ebff;}#sk-container-id-4 input.sk-hidden--visually {border: 0;clip: rect(1px 1px 1px 1px);clip: rect(1px, 1px, 1px, 1px);height: 1px;margin: -1px;overflow: hidden;padding: 0;position: absolute;width: 1px;}#sk-container-id-4 div.sk-estimator {font-family: monospace;background-color: #f0f8ff;border: 1px dotted black;border-radius: 0.25em;box-sizing: border-box;margin-bottom: 0.5em;}#sk-container-id-4 div.sk-estimator:hover {background-color: #d4ebff;}#sk-container-id-4 div.sk-parallel-item::after {content: \"\";width: 100%;border-bottom: 1px solid gray;flex-grow: 1;}#sk-container-id-4 div.sk-label:hover label.sk-toggleable__label {background-color: #d4ebff;}#sk-container-id-4 div.sk-serial::before {content: \"\";position: absolute;border-left: 1px solid gray;box-sizing: border-box;top: 0;bottom: 0;left: 50%;z-index: 0;}#sk-container-id-4 div.sk-serial {display: flex;flex-direction: column;align-items: center;background-color: white;padding-right: 0.2em;padding-left: 0.2em;position: relative;}#sk-container-id-4 div.sk-item {position: relative;z-index: 1;}#sk-container-id-4 div.sk-parallel {display: flex;align-items: stretch;justify-content: center;background-color: white;position: relative;}#sk-container-id-4 div.sk-item::before, #sk-container-id-4 div.sk-parallel-item::before {content: \"\";position: absolute;border-left: 1px solid gray;box-sizing: border-box;top: 0;bottom: 0;left: 50%;z-index: -1;}#sk-container-id-4 div.sk-parallel-item {display: flex;flex-direction: column;z-index: 1;position: relative;background-color: white;}#sk-container-id-4 div.sk-parallel-item:first-child::after {align-self: flex-end;width: 50%;}#sk-container-id-4 div.sk-parallel-item:last-child::after {align-self: flex-start;width: 50%;}#sk-container-id-4 div.sk-parallel-item:only-child::after {width: 0;}#sk-container-id-4 div.sk-dashed-wrapped {border: 1px dashed gray;margin: 0 0.4em 0.5em 0.4em;box-sizing: border-box;padding-bottom: 0.4em;background-color: white;}#sk-container-id-4 div.sk-label label {font-family: monospace;font-weight: bold;display: inline-block;line-height: 1.2em;}#sk-container-id-4 div.sk-label-container {text-align: center;}#sk-container-id-4 div.sk-container {/* jupyter's `normalize.less` sets `[hidden] { display: none; }` but bootstrap.min.css set `[hidden] { display: none !important; }` so we also need the `!important` here to be able to override the default hidden behavior on the sphinx rendered scikit-learn.org. See: https://github.com/scikit-learn/scikit-learn/issues/21755 */display: inline-block !important;position: relative;}#sk-container-id-4 div.sk-text-repr-fallback {display: none;}</style><div id=\"sk-container-id-4\" class=\"sk-top-container\"><div class=\"sk-text-repr-fallback\"><pre>RFECV(cv=KFold(n_splits=5, random_state=None, shuffle=False),\n",
       "      estimator=DecisionTreeRegressor(), scoring=&#x27;r2&#x27;)</pre><b>In a Jupyter environment, please rerun this cell to show the HTML representation or trust the notebook. <br />On GitHub, the HTML representation is unable to render, please try loading this page with nbviewer.org.</b></div><div class=\"sk-container\" hidden><div class=\"sk-item sk-dashed-wrapped\"><div class=\"sk-label-container\"><div class=\"sk-label sk-toggleable\"><input class=\"sk-toggleable__control sk-hidden--visually\" id=\"sk-estimator-id-4\" type=\"checkbox\" ><label for=\"sk-estimator-id-4\" class=\"sk-toggleable__label sk-toggleable__label-arrow\">RFECV</label><div class=\"sk-toggleable__content\"><pre>RFECV(cv=KFold(n_splits=5, random_state=None, shuffle=False),\n",
       "      estimator=DecisionTreeRegressor(), scoring=&#x27;r2&#x27;)</pre></div></div></div><div class=\"sk-parallel\"><div class=\"sk-parallel-item\"><div class=\"sk-item\"><div class=\"sk-label-container\"><div class=\"sk-label sk-toggleable\"><input class=\"sk-toggleable__control sk-hidden--visually\" id=\"sk-estimator-id-5\" type=\"checkbox\" ><label for=\"sk-estimator-id-5\" class=\"sk-toggleable__label sk-toggleable__label-arrow\">estimator: DecisionTreeRegressor</label><div class=\"sk-toggleable__content\"><pre>DecisionTreeRegressor()</pre></div></div></div><div class=\"sk-serial\"><div class=\"sk-item\"><div class=\"sk-estimator sk-toggleable\"><input class=\"sk-toggleable__control sk-hidden--visually\" id=\"sk-estimator-id-6\" type=\"checkbox\" ><label for=\"sk-estimator-id-6\" class=\"sk-toggleable__label sk-toggleable__label-arrow\">DecisionTreeRegressor</label><div class=\"sk-toggleable__content\"><pre>DecisionTreeRegressor()</pre></div></div></div></div></div></div></div></div></div></div>"
      ],
      "text/plain": [
       "RFECV(cv=KFold(n_splits=5, random_state=None, shuffle=False),\n",
       "      estimator=DecisionTreeRegressor(), scoring='r2')"
      ]
     },
     "execution_count": 50,
     "metadata": {},
     "output_type": "execute_result"
    }
   ],
   "source": [
    "# Feature selection using RFECV\n",
    "\n",
    "from sklearn.model_selection import KFold\n",
    "\n",
    "min_features_to_select = 1\n",
    "df = DecisionTreeRegressor()\n",
    "cv = KFold(5)\n",
    "\n",
    "rfecv = RFECV(estimator=dt,\n",
    "             cv=cv,\n",
    "             scoring='r2',\n",
    "             min_features_to_select=min_features_to_select)\n",
    "\n",
    "rfecv.fit(x,y)"
   ]
  },
  {
   "cell_type": "code",
   "execution_count": 51,
   "id": "2d250c89",
   "metadata": {},
   "outputs": [
    {
     "data": {
      "text/html": [
       "<div>\n",
       "<style scoped>\n",
       "    .dataframe tbody tr th:only-of-type {\n",
       "        vertical-align: middle;\n",
       "    }\n",
       "\n",
       "    .dataframe tbody tr th {\n",
       "        vertical-align: top;\n",
       "    }\n",
       "\n",
       "    .dataframe thead th {\n",
       "        text-align: right;\n",
       "    }\n",
       "</style>\n",
       "<table border=\"1\" class=\"dataframe\">\n",
       "  <thead>\n",
       "    <tr style=\"text-align: right;\">\n",
       "      <th></th>\n",
       "      <th>Features</th>\n",
       "      <th>SelectKBest.score_</th>\n",
       "      <th>RF.feature_importances_</th>\n",
       "      <th>DT.feature_importances_</th>\n",
       "      <th>RFE_support</th>\n",
       "    </tr>\n",
       "  </thead>\n",
       "  <tbody>\n",
       "    <tr>\n",
       "      <th>0</th>\n",
       "      <td>longitude_of_pickup</td>\n",
       "      <td>0.093050</td>\n",
       "      <td>0.241340</td>\n",
       "      <td>0.218082</td>\n",
       "      <td>True</td>\n",
       "    </tr>\n",
       "    <tr>\n",
       "      <th>1</th>\n",
       "      <td>latitude_of_pickup</td>\n",
       "      <td>0.078261</td>\n",
       "      <td>0.125240</td>\n",
       "      <td>0.136825</td>\n",
       "      <td>True</td>\n",
       "    </tr>\n",
       "    <tr>\n",
       "      <th>2</th>\n",
       "      <td>longitude_of_dropoff</td>\n",
       "      <td>0.112207</td>\n",
       "      <td>0.388413</td>\n",
       "      <td>0.401106</td>\n",
       "      <td>True</td>\n",
       "    </tr>\n",
       "    <tr>\n",
       "      <th>3</th>\n",
       "      <td>latitude_of_dropoff</td>\n",
       "      <td>0.106558</td>\n",
       "      <td>0.159765</td>\n",
       "      <td>0.156156</td>\n",
       "      <td>True</td>\n",
       "    </tr>\n",
       "    <tr>\n",
       "      <th>4</th>\n",
       "      <td>no_of_passenger</td>\n",
       "      <td>0.005663</td>\n",
       "      <td>0.007595</td>\n",
       "      <td>0.011747</td>\n",
       "      <td>False</td>\n",
       "    </tr>\n",
       "    <tr>\n",
       "      <th>5</th>\n",
       "      <td>month</td>\n",
       "      <td>0.010136</td>\n",
       "      <td>0.018383</td>\n",
       "      <td>0.019584</td>\n",
       "      <td>False</td>\n",
       "    </tr>\n",
       "    <tr>\n",
       "      <th>6</th>\n",
       "      <td>day</td>\n",
       "      <td>0.000000</td>\n",
       "      <td>0.022250</td>\n",
       "      <td>0.019898</td>\n",
       "      <td>False</td>\n",
       "    </tr>\n",
       "    <tr>\n",
       "      <th>7</th>\n",
       "      <td>hour</td>\n",
       "      <td>0.010062</td>\n",
       "      <td>0.022727</td>\n",
       "      <td>0.020414</td>\n",
       "      <td>False</td>\n",
       "    </tr>\n",
       "    <tr>\n",
       "      <th>8</th>\n",
       "      <td>day_of_week</td>\n",
       "      <td>0.000595</td>\n",
       "      <td>0.012271</td>\n",
       "      <td>0.014293</td>\n",
       "      <td>False</td>\n",
       "    </tr>\n",
       "    <tr>\n",
       "      <th>9</th>\n",
       "      <td>is_weekend</td>\n",
       "      <td>0.000000</td>\n",
       "      <td>0.002017</td>\n",
       "      <td>0.001894</td>\n",
       "      <td>False</td>\n",
       "    </tr>\n",
       "  </tbody>\n",
       "</table>\n",
       "</div>"
      ],
      "text/plain": [
       "               Features  SelectKBest.score_  RF.feature_importances_  \\\n",
       "0   longitude_of_pickup            0.093050                 0.241340   \n",
       "1    latitude_of_pickup            0.078261                 0.125240   \n",
       "2  longitude_of_dropoff            0.112207                 0.388413   \n",
       "3   latitude_of_dropoff            0.106558                 0.159765   \n",
       "4       no_of_passenger            0.005663                 0.007595   \n",
       "5                 month            0.010136                 0.018383   \n",
       "6                   day            0.000000                 0.022250   \n",
       "7                  hour            0.010062                 0.022727   \n",
       "8           day_of_week            0.000595                 0.012271   \n",
       "9            is_weekend            0.000000                 0.002017   \n",
       "\n",
       "   DT.feature_importances_  RFE_support  \n",
       "0                 0.218082         True  \n",
       "1                 0.136825         True  \n",
       "2                 0.401106         True  \n",
       "3                 0.156156         True  \n",
       "4                 0.011747        False  \n",
       "5                 0.019584        False  \n",
       "6                 0.019898        False  \n",
       "7                 0.020414        False  \n",
       "8                 0.014293        False  \n",
       "9                 0.001894        False  "
      ]
     },
     "execution_count": 51,
     "metadata": {},
     "output_type": "execute_result"
    }
   ],
   "source": [
    "feature_importance['RFE_support'] = rfecv.get_support()\n",
    "feature_importance.sort_values('RFE_support', ascending=False)"
   ]
  },
  {
   "cell_type": "code",
   "execution_count": null,
   "id": "689d0c2a",
   "metadata": {},
   "outputs": [],
   "source": []
  },
  {
   "cell_type": "code",
   "execution_count": 52,
   "id": "9e7249d6",
   "metadata": {},
   "outputs": [
    {
     "data": {
      "text/html": [
       "<style>#sk-container-id-5 {color: black;background-color: white;}#sk-container-id-5 pre{padding: 0;}#sk-container-id-5 div.sk-toggleable {background-color: white;}#sk-container-id-5 label.sk-toggleable__label {cursor: pointer;display: block;width: 100%;margin-bottom: 0;padding: 0.3em;box-sizing: border-box;text-align: center;}#sk-container-id-5 label.sk-toggleable__label-arrow:before {content: \"▸\";float: left;margin-right: 0.25em;color: #696969;}#sk-container-id-5 label.sk-toggleable__label-arrow:hover:before {color: black;}#sk-container-id-5 div.sk-estimator:hover label.sk-toggleable__label-arrow:before {color: black;}#sk-container-id-5 div.sk-toggleable__content {max-height: 0;max-width: 0;overflow: hidden;text-align: left;background-color: #f0f8ff;}#sk-container-id-5 div.sk-toggleable__content pre {margin: 0.2em;color: black;border-radius: 0.25em;background-color: #f0f8ff;}#sk-container-id-5 input.sk-toggleable__control:checked~div.sk-toggleable__content {max-height: 200px;max-width: 100%;overflow: auto;}#sk-container-id-5 input.sk-toggleable__control:checked~label.sk-toggleable__label-arrow:before {content: \"▾\";}#sk-container-id-5 div.sk-estimator input.sk-toggleable__control:checked~label.sk-toggleable__label {background-color: #d4ebff;}#sk-container-id-5 div.sk-label input.sk-toggleable__control:checked~label.sk-toggleable__label {background-color: #d4ebff;}#sk-container-id-5 input.sk-hidden--visually {border: 0;clip: rect(1px 1px 1px 1px);clip: rect(1px, 1px, 1px, 1px);height: 1px;margin: -1px;overflow: hidden;padding: 0;position: absolute;width: 1px;}#sk-container-id-5 div.sk-estimator {font-family: monospace;background-color: #f0f8ff;border: 1px dotted black;border-radius: 0.25em;box-sizing: border-box;margin-bottom: 0.5em;}#sk-container-id-5 div.sk-estimator:hover {background-color: #d4ebff;}#sk-container-id-5 div.sk-parallel-item::after {content: \"\";width: 100%;border-bottom: 1px solid gray;flex-grow: 1;}#sk-container-id-5 div.sk-label:hover label.sk-toggleable__label {background-color: #d4ebff;}#sk-container-id-5 div.sk-serial::before {content: \"\";position: absolute;border-left: 1px solid gray;box-sizing: border-box;top: 0;bottom: 0;left: 50%;z-index: 0;}#sk-container-id-5 div.sk-serial {display: flex;flex-direction: column;align-items: center;background-color: white;padding-right: 0.2em;padding-left: 0.2em;position: relative;}#sk-container-id-5 div.sk-item {position: relative;z-index: 1;}#sk-container-id-5 div.sk-parallel {display: flex;align-items: stretch;justify-content: center;background-color: white;position: relative;}#sk-container-id-5 div.sk-item::before, #sk-container-id-5 div.sk-parallel-item::before {content: \"\";position: absolute;border-left: 1px solid gray;box-sizing: border-box;top: 0;bottom: 0;left: 50%;z-index: -1;}#sk-container-id-5 div.sk-parallel-item {display: flex;flex-direction: column;z-index: 1;position: relative;background-color: white;}#sk-container-id-5 div.sk-parallel-item:first-child::after {align-self: flex-end;width: 50%;}#sk-container-id-5 div.sk-parallel-item:last-child::after {align-self: flex-start;width: 50%;}#sk-container-id-5 div.sk-parallel-item:only-child::after {width: 0;}#sk-container-id-5 div.sk-dashed-wrapped {border: 1px dashed gray;margin: 0 0.4em 0.5em 0.4em;box-sizing: border-box;padding-bottom: 0.4em;background-color: white;}#sk-container-id-5 div.sk-label label {font-family: monospace;font-weight: bold;display: inline-block;line-height: 1.2em;}#sk-container-id-5 div.sk-label-container {text-align: center;}#sk-container-id-5 div.sk-container {/* jupyter's `normalize.less` sets `[hidden] { display: none; }` but bootstrap.min.css set `[hidden] { display: none !important; }` so we also need the `!important` here to be able to override the default hidden behavior on the sphinx rendered scikit-learn.org. See: https://github.com/scikit-learn/scikit-learn/issues/21755 */display: inline-block !important;position: relative;}#sk-container-id-5 div.sk-text-repr-fallback {display: none;}</style><div id=\"sk-container-id-5\" class=\"sk-top-container\"><div class=\"sk-text-repr-fallback\"><pre>VarianceThreshold(threshold=2)</pre><b>In a Jupyter environment, please rerun this cell to show the HTML representation or trust the notebook. <br />On GitHub, the HTML representation is unable to render, please try loading this page with nbviewer.org.</b></div><div class=\"sk-container\" hidden><div class=\"sk-item\"><div class=\"sk-estimator sk-toggleable\"><input class=\"sk-toggleable__control sk-hidden--visually\" id=\"sk-estimator-id-7\" type=\"checkbox\" checked><label for=\"sk-estimator-id-7\" class=\"sk-toggleable__label sk-toggleable__label-arrow\">VarianceThreshold</label><div class=\"sk-toggleable__content\"><pre>VarianceThreshold(threshold=2)</pre></div></div></div></div></div>"
      ],
      "text/plain": [
       "VarianceThreshold(threshold=2)"
      ]
     },
     "execution_count": 52,
     "metadata": {},
     "output_type": "execute_result"
    }
   ],
   "source": [
    "# Feature selection using varience threshold\n",
    "\n",
    "varience = VarianceThreshold(threshold=2)\n",
    "varience.fit(x,y)"
   ]
  },
  {
   "cell_type": "code",
   "execution_count": 53,
   "id": "fe570bae",
   "metadata": {},
   "outputs": [
    {
     "data": {
      "text/html": [
       "<div>\n",
       "<style scoped>\n",
       "    .dataframe tbody tr th:only-of-type {\n",
       "        vertical-align: middle;\n",
       "    }\n",
       "\n",
       "    .dataframe tbody tr th {\n",
       "        vertical-align: top;\n",
       "    }\n",
       "\n",
       "    .dataframe thead th {\n",
       "        text-align: right;\n",
       "    }\n",
       "</style>\n",
       "<table border=\"1\" class=\"dataframe\">\n",
       "  <thead>\n",
       "    <tr style=\"text-align: right;\">\n",
       "      <th></th>\n",
       "      <th>Features</th>\n",
       "      <th>SelectKBest.score_</th>\n",
       "      <th>RF.feature_importances_</th>\n",
       "      <th>DT.feature_importances_</th>\n",
       "      <th>RFE_support</th>\n",
       "      <th>varience_support</th>\n",
       "    </tr>\n",
       "  </thead>\n",
       "  <tbody>\n",
       "    <tr>\n",
       "      <th>0</th>\n",
       "      <td>longitude_of_pickup</td>\n",
       "      <td>0.093050</td>\n",
       "      <td>0.241340</td>\n",
       "      <td>0.218082</td>\n",
       "      <td>True</td>\n",
       "      <td>True</td>\n",
       "    </tr>\n",
       "    <tr>\n",
       "      <th>1</th>\n",
       "      <td>latitude_of_pickup</td>\n",
       "      <td>0.078261</td>\n",
       "      <td>0.125240</td>\n",
       "      <td>0.136825</td>\n",
       "      <td>True</td>\n",
       "      <td>True</td>\n",
       "    </tr>\n",
       "    <tr>\n",
       "      <th>2</th>\n",
       "      <td>longitude_of_dropoff</td>\n",
       "      <td>0.112207</td>\n",
       "      <td>0.388413</td>\n",
       "      <td>0.401106</td>\n",
       "      <td>True</td>\n",
       "      <td>True</td>\n",
       "    </tr>\n",
       "    <tr>\n",
       "      <th>3</th>\n",
       "      <td>latitude_of_dropoff</td>\n",
       "      <td>0.106558</td>\n",
       "      <td>0.159765</td>\n",
       "      <td>0.156156</td>\n",
       "      <td>True</td>\n",
       "      <td>True</td>\n",
       "    </tr>\n",
       "    <tr>\n",
       "      <th>5</th>\n",
       "      <td>month</td>\n",
       "      <td>0.010136</td>\n",
       "      <td>0.018383</td>\n",
       "      <td>0.019584</td>\n",
       "      <td>False</td>\n",
       "      <td>True</td>\n",
       "    </tr>\n",
       "    <tr>\n",
       "      <th>6</th>\n",
       "      <td>day</td>\n",
       "      <td>0.000000</td>\n",
       "      <td>0.022250</td>\n",
       "      <td>0.019898</td>\n",
       "      <td>False</td>\n",
       "      <td>True</td>\n",
       "    </tr>\n",
       "    <tr>\n",
       "      <th>7</th>\n",
       "      <td>hour</td>\n",
       "      <td>0.010062</td>\n",
       "      <td>0.022727</td>\n",
       "      <td>0.020414</td>\n",
       "      <td>False</td>\n",
       "      <td>True</td>\n",
       "    </tr>\n",
       "    <tr>\n",
       "      <th>8</th>\n",
       "      <td>day_of_week</td>\n",
       "      <td>0.000595</td>\n",
       "      <td>0.012271</td>\n",
       "      <td>0.014293</td>\n",
       "      <td>False</td>\n",
       "      <td>True</td>\n",
       "    </tr>\n",
       "    <tr>\n",
       "      <th>4</th>\n",
       "      <td>no_of_passenger</td>\n",
       "      <td>0.005663</td>\n",
       "      <td>0.007595</td>\n",
       "      <td>0.011747</td>\n",
       "      <td>False</td>\n",
       "      <td>False</td>\n",
       "    </tr>\n",
       "    <tr>\n",
       "      <th>9</th>\n",
       "      <td>is_weekend</td>\n",
       "      <td>0.000000</td>\n",
       "      <td>0.002017</td>\n",
       "      <td>0.001894</td>\n",
       "      <td>False</td>\n",
       "      <td>False</td>\n",
       "    </tr>\n",
       "  </tbody>\n",
       "</table>\n",
       "</div>"
      ],
      "text/plain": [
       "               Features  SelectKBest.score_  RF.feature_importances_  \\\n",
       "0   longitude_of_pickup            0.093050                 0.241340   \n",
       "1    latitude_of_pickup            0.078261                 0.125240   \n",
       "2  longitude_of_dropoff            0.112207                 0.388413   \n",
       "3   latitude_of_dropoff            0.106558                 0.159765   \n",
       "5                 month            0.010136                 0.018383   \n",
       "6                   day            0.000000                 0.022250   \n",
       "7                  hour            0.010062                 0.022727   \n",
       "8           day_of_week            0.000595                 0.012271   \n",
       "4       no_of_passenger            0.005663                 0.007595   \n",
       "9            is_weekend            0.000000                 0.002017   \n",
       "\n",
       "   DT.feature_importances_  RFE_support  varience_support  \n",
       "0                 0.218082         True              True  \n",
       "1                 0.136825         True              True  \n",
       "2                 0.401106         True              True  \n",
       "3                 0.156156         True              True  \n",
       "5                 0.019584        False              True  \n",
       "6                 0.019898        False              True  \n",
       "7                 0.020414        False              True  \n",
       "8                 0.014293        False              True  \n",
       "4                 0.011747        False             False  \n",
       "9                 0.001894        False             False  "
      ]
     },
     "execution_count": 53,
     "metadata": {},
     "output_type": "execute_result"
    }
   ],
   "source": [
    "feature_importance['varience_support'] = varience.get_support()\n",
    "feature_importance.sort_values('varience_support', ascending=False)"
   ]
  },
  {
   "cell_type": "markdown",
   "id": "bb32a460",
   "metadata": {},
   "source": [
    "- Longitude, latitude, hour, month, no_of_passenger and day_of_week, day are found to be most important features for predicting taxi fare.\n",
    "- while is_weekend is least important."
   ]
  },
  {
   "cell_type": "code",
   "execution_count": 68,
   "id": "385d2ec3",
   "metadata": {},
   "outputs": [
    {
     "name": "stdout",
     "output_type": "stream",
     "text": [
      "train_x:  (34877, 9)\n",
      "train_y:  (34877,)\n",
      "test_x:  (14948, 9)\n",
      "test_y:  (14948,)\n"
     ]
    }
   ],
   "source": [
    "# Train test split using only important features\n",
    "from sklearn.model_selection import train_test_split\n",
    "\n",
    "train_x, test_x, train_y, test_y = train_test_split(x.drop('is_weekend',axis=1), y, test_size=0.3, random_state=42)\n",
    "\n",
    "print('train_x: ',train_x.shape)\n",
    "print('train_y: ',train_y.shape)\n",
    "print('test_x: ',test_x.shape)\n",
    "print('test_y: ',test_y.shape)"
   ]
  },
  {
   "cell_type": "code",
   "execution_count": null,
   "id": "3fc360e2",
   "metadata": {},
   "outputs": [],
   "source": []
  },
  {
   "cell_type": "markdown",
   "id": "6ea2a68f",
   "metadata": {},
   "source": [
    "## *Model Building*"
   ]
  },
  {
   "cell_type": "code",
   "execution_count": 69,
   "id": "3c2e0840",
   "metadata": {},
   "outputs": [],
   "source": [
    "# This is a regression problem but we cannot use Linear Regression, Support vector machines and K nearest neigbhor because \n",
    "# we have high multicollinearity in data and we have also not worked on outliers removal.\n",
    "# In dataset we have location points marked by latitude and longitude we need to preserve its spacial integrity \n",
    "# for better performance of model."
   ]
  },
  {
   "cell_type": "markdown",
   "id": "2c417535",
   "metadata": {},
   "source": [
    "#### Model 1: Decision Tree "
   ]
  },
  {
   "cell_type": "code",
   "execution_count": 89,
   "id": "cbbae619",
   "metadata": {},
   "outputs": [
    {
     "name": "stdout",
     "output_type": "stream",
     "text": [
      "Fitting 3 folds for each of 144 candidates, totalling 432 fits\n"
     ]
    },
    {
     "data": {
      "text/html": [
       "<style>#sk-container-id-14 {color: black;background-color: white;}#sk-container-id-14 pre{padding: 0;}#sk-container-id-14 div.sk-toggleable {background-color: white;}#sk-container-id-14 label.sk-toggleable__label {cursor: pointer;display: block;width: 100%;margin-bottom: 0;padding: 0.3em;box-sizing: border-box;text-align: center;}#sk-container-id-14 label.sk-toggleable__label-arrow:before {content: \"▸\";float: left;margin-right: 0.25em;color: #696969;}#sk-container-id-14 label.sk-toggleable__label-arrow:hover:before {color: black;}#sk-container-id-14 div.sk-estimator:hover label.sk-toggleable__label-arrow:before {color: black;}#sk-container-id-14 div.sk-toggleable__content {max-height: 0;max-width: 0;overflow: hidden;text-align: left;background-color: #f0f8ff;}#sk-container-id-14 div.sk-toggleable__content pre {margin: 0.2em;color: black;border-radius: 0.25em;background-color: #f0f8ff;}#sk-container-id-14 input.sk-toggleable__control:checked~div.sk-toggleable__content {max-height: 200px;max-width: 100%;overflow: auto;}#sk-container-id-14 input.sk-toggleable__control:checked~label.sk-toggleable__label-arrow:before {content: \"▾\";}#sk-container-id-14 div.sk-estimator input.sk-toggleable__control:checked~label.sk-toggleable__label {background-color: #d4ebff;}#sk-container-id-14 div.sk-label input.sk-toggleable__control:checked~label.sk-toggleable__label {background-color: #d4ebff;}#sk-container-id-14 input.sk-hidden--visually {border: 0;clip: rect(1px 1px 1px 1px);clip: rect(1px, 1px, 1px, 1px);height: 1px;margin: -1px;overflow: hidden;padding: 0;position: absolute;width: 1px;}#sk-container-id-14 div.sk-estimator {font-family: monospace;background-color: #f0f8ff;border: 1px dotted black;border-radius: 0.25em;box-sizing: border-box;margin-bottom: 0.5em;}#sk-container-id-14 div.sk-estimator:hover {background-color: #d4ebff;}#sk-container-id-14 div.sk-parallel-item::after {content: \"\";width: 100%;border-bottom: 1px solid gray;flex-grow: 1;}#sk-container-id-14 div.sk-label:hover label.sk-toggleable__label {background-color: #d4ebff;}#sk-container-id-14 div.sk-serial::before {content: \"\";position: absolute;border-left: 1px solid gray;box-sizing: border-box;top: 0;bottom: 0;left: 50%;z-index: 0;}#sk-container-id-14 div.sk-serial {display: flex;flex-direction: column;align-items: center;background-color: white;padding-right: 0.2em;padding-left: 0.2em;position: relative;}#sk-container-id-14 div.sk-item {position: relative;z-index: 1;}#sk-container-id-14 div.sk-parallel {display: flex;align-items: stretch;justify-content: center;background-color: white;position: relative;}#sk-container-id-14 div.sk-item::before, #sk-container-id-14 div.sk-parallel-item::before {content: \"\";position: absolute;border-left: 1px solid gray;box-sizing: border-box;top: 0;bottom: 0;left: 50%;z-index: -1;}#sk-container-id-14 div.sk-parallel-item {display: flex;flex-direction: column;z-index: 1;position: relative;background-color: white;}#sk-container-id-14 div.sk-parallel-item:first-child::after {align-self: flex-end;width: 50%;}#sk-container-id-14 div.sk-parallel-item:last-child::after {align-self: flex-start;width: 50%;}#sk-container-id-14 div.sk-parallel-item:only-child::after {width: 0;}#sk-container-id-14 div.sk-dashed-wrapped {border: 1px dashed gray;margin: 0 0.4em 0.5em 0.4em;box-sizing: border-box;padding-bottom: 0.4em;background-color: white;}#sk-container-id-14 div.sk-label label {font-family: monospace;font-weight: bold;display: inline-block;line-height: 1.2em;}#sk-container-id-14 div.sk-label-container {text-align: center;}#sk-container-id-14 div.sk-container {/* jupyter's `normalize.less` sets `[hidden] { display: none; }` but bootstrap.min.css set `[hidden] { display: none !important; }` so we also need the `!important` here to be able to override the default hidden behavior on the sphinx rendered scikit-learn.org. See: https://github.com/scikit-learn/scikit-learn/issues/21755 */display: inline-block !important;position: relative;}#sk-container-id-14 div.sk-text-repr-fallback {display: none;}</style><div id=\"sk-container-id-14\" class=\"sk-top-container\"><div class=\"sk-text-repr-fallback\"><pre>GridSearchCV(cv=KFold(n_splits=3, random_state=55, shuffle=True),\n",
       "             estimator=DecisionTreeRegressor(),\n",
       "             param_grid={&#x27;max_depth&#x27;: [None, 4, 5, 7],\n",
       "                         &#x27;max_features&#x27;: [&#x27;auto&#x27;, &#x27;sqrt&#x27;, &#x27;log2&#x27;, None],\n",
       "                         &#x27;min_samples_leaf&#x27;: [1, 2, 4],\n",
       "                         &#x27;min_samples_split&#x27;: [2, 5, 10]},\n",
       "             scoring=&#x27;neg_mean_squared_error&#x27;, verbose=1)</pre><b>In a Jupyter environment, please rerun this cell to show the HTML representation or trust the notebook. <br />On GitHub, the HTML representation is unable to render, please try loading this page with nbviewer.org.</b></div><div class=\"sk-container\" hidden><div class=\"sk-item sk-dashed-wrapped\"><div class=\"sk-label-container\"><div class=\"sk-label sk-toggleable\"><input class=\"sk-toggleable__control sk-hidden--visually\" id=\"sk-estimator-id-32\" type=\"checkbox\" ><label for=\"sk-estimator-id-32\" class=\"sk-toggleable__label sk-toggleable__label-arrow\">GridSearchCV</label><div class=\"sk-toggleable__content\"><pre>GridSearchCV(cv=KFold(n_splits=3, random_state=55, shuffle=True),\n",
       "             estimator=DecisionTreeRegressor(),\n",
       "             param_grid={&#x27;max_depth&#x27;: [None, 4, 5, 7],\n",
       "                         &#x27;max_features&#x27;: [&#x27;auto&#x27;, &#x27;sqrt&#x27;, &#x27;log2&#x27;, None],\n",
       "                         &#x27;min_samples_leaf&#x27;: [1, 2, 4],\n",
       "                         &#x27;min_samples_split&#x27;: [2, 5, 10]},\n",
       "             scoring=&#x27;neg_mean_squared_error&#x27;, verbose=1)</pre></div></div></div><div class=\"sk-parallel\"><div class=\"sk-parallel-item\"><div class=\"sk-item\"><div class=\"sk-label-container\"><div class=\"sk-label sk-toggleable\"><input class=\"sk-toggleable__control sk-hidden--visually\" id=\"sk-estimator-id-33\" type=\"checkbox\" ><label for=\"sk-estimator-id-33\" class=\"sk-toggleable__label sk-toggleable__label-arrow\">estimator: DecisionTreeRegressor</label><div class=\"sk-toggleable__content\"><pre>DecisionTreeRegressor()</pre></div></div></div><div class=\"sk-serial\"><div class=\"sk-item\"><div class=\"sk-estimator sk-toggleable\"><input class=\"sk-toggleable__control sk-hidden--visually\" id=\"sk-estimator-id-34\" type=\"checkbox\" ><label for=\"sk-estimator-id-34\" class=\"sk-toggleable__label sk-toggleable__label-arrow\">DecisionTreeRegressor</label><div class=\"sk-toggleable__content\"><pre>DecisionTreeRegressor()</pre></div></div></div></div></div></div></div></div></div></div>"
      ],
      "text/plain": [
       "GridSearchCV(cv=KFold(n_splits=3, random_state=55, shuffle=True),\n",
       "             estimator=DecisionTreeRegressor(),\n",
       "             param_grid={'max_depth': [None, 4, 5, 7],\n",
       "                         'max_features': ['auto', 'sqrt', 'log2', None],\n",
       "                         'min_samples_leaf': [1, 2, 4],\n",
       "                         'min_samples_split': [2, 5, 10]},\n",
       "             scoring='neg_mean_squared_error', verbose=1)"
      ]
     },
     "execution_count": 89,
     "metadata": {},
     "output_type": "execute_result"
    }
   ],
   "source": [
    "# Building Decision tree model with Grid search CV\n",
    "from sklearn.tree import DecisionTreeRegressor\n",
    "from sklearn.metrics import r2_score, mean_absolute_error, mean_squared_error, mean_absolute_percentage_error\n",
    "from sklearn.model_selection import KFold, GridSearchCV\n",
    "\n",
    "#'criterion':['squared_error','friedman_mse','absolute_error','poisson'],\n",
    "folds = KFold(n_splits=3, shuffle=True, random_state=55)\n",
    "\n",
    "param = {'max_depth': [None, 4, 5, 7],\n",
    "         'min_samples_split': [2, 5, 10],\n",
    "         'min_samples_leaf': [1, 2, 4],\n",
    "         'max_features': ['auto', 'sqrt', 'log2', None]}\n",
    "                      \n",
    "\n",
    "dt = DecisionTreeRegressor()\n",
    "dt_grid = GridSearchCV(estimator=dt,\n",
    "                      cv=folds,\n",
    "                      param_grid=param,\n",
    "                      scoring='neg_mean_squared_error',\n",
    "                      verbose=1)\n",
    "\n",
    "dt_grid.fit(train_x, train_y)"
   ]
  },
  {
   "cell_type": "code",
   "execution_count": 90,
   "id": "8b06566b",
   "metadata": {},
   "outputs": [
    {
     "data": {
      "text/plain": [
       "{'max_depth': None,\n",
       " 'max_features': 'auto',\n",
       " 'min_samples_leaf': 4,\n",
       " 'min_samples_split': 10}"
      ]
     },
     "execution_count": 90,
     "metadata": {},
     "output_type": "execute_result"
    }
   ],
   "source": [
    "# Best parameters\n",
    "dt_grid.best_params_"
   ]
  },
  {
   "cell_type": "code",
   "execution_count": 91,
   "id": "9ff3cd40",
   "metadata": {},
   "outputs": [
    {
     "name": "stdout",
     "output_type": "stream",
     "text": [
      "train score is 0.88\n",
      "test score is 0.63\n",
      "r2 score is 0.63\n",
      "MAE score is 2.97\n",
      "MSE score is 34.58\n",
      "RMSE score is 5.88\n",
      "MAPE score is 0.30\n"
     ]
    }
   ],
   "source": [
    "dt = DecisionTreeRegressor(max_depth=dt_grid.best_params_.get('max_depth'), \n",
    "                           max_features=dt_grid.best_params_.get('max_features'),\n",
    "                           min_samples_leaf=dt_grid.best_params_.get('min_samples_leaf'), \n",
    "                           min_samples_split=dt_grid.best_params_.get('min_samples_split'))\n",
    "dt.fit(train_x, train_y)\n",
    "\n",
    "print('train score is %.2f'%dt.score(train_x, train_y))\n",
    "print('test score is %.2f'%dt.score(test_x, test_y))\n",
    "\n",
    "dt_pred = dt.predict(test_x)\n",
    "\n",
    "print('r2 score is %.2f'%r2_score(test_y, dt_pred))\n",
    "print('MAE score is %.2f'%mean_absolute_error(test_y, dt_pred))\n",
    "print('MSE score is %.2f'%mean_squared_error(test_y, dt_pred))\n",
    "print('RMSE score is %.2f'%np.sqrt(mean_squared_error(test_y, dt_pred)))\n",
    "print('MAPE score is %.2f'%mean_absolute_percentage_error(test_y, dt_pred))"
   ]
  },
  {
   "cell_type": "markdown",
   "id": "fb0b9e1a",
   "metadata": {},
   "source": [
    "- Training score is more than testing score so model is overfitting.\n",
    "- RMSE is 5.88."
   ]
  },
  {
   "cell_type": "code",
   "execution_count": null,
   "id": "a60e91f2",
   "metadata": {},
   "outputs": [],
   "source": []
  },
  {
   "cell_type": "markdown",
   "id": "3089b202",
   "metadata": {},
   "source": [
    "#### Model 2: Bagging "
   ]
  },
  {
   "cell_type": "code",
   "execution_count": 95,
   "id": "be71cced",
   "metadata": {},
   "outputs": [
    {
     "name": "stdout",
     "output_type": "stream",
     "text": [
      "Fitting 3 folds for each of 27 candidates, totalling 81 fits\n"
     ]
    },
    {
     "data": {
      "text/html": [
       "<style>#sk-container-id-16 {color: black;background-color: white;}#sk-container-id-16 pre{padding: 0;}#sk-container-id-16 div.sk-toggleable {background-color: white;}#sk-container-id-16 label.sk-toggleable__label {cursor: pointer;display: block;width: 100%;margin-bottom: 0;padding: 0.3em;box-sizing: border-box;text-align: center;}#sk-container-id-16 label.sk-toggleable__label-arrow:before {content: \"▸\";float: left;margin-right: 0.25em;color: #696969;}#sk-container-id-16 label.sk-toggleable__label-arrow:hover:before {color: black;}#sk-container-id-16 div.sk-estimator:hover label.sk-toggleable__label-arrow:before {color: black;}#sk-container-id-16 div.sk-toggleable__content {max-height: 0;max-width: 0;overflow: hidden;text-align: left;background-color: #f0f8ff;}#sk-container-id-16 div.sk-toggleable__content pre {margin: 0.2em;color: black;border-radius: 0.25em;background-color: #f0f8ff;}#sk-container-id-16 input.sk-toggleable__control:checked~div.sk-toggleable__content {max-height: 200px;max-width: 100%;overflow: auto;}#sk-container-id-16 input.sk-toggleable__control:checked~label.sk-toggleable__label-arrow:before {content: \"▾\";}#sk-container-id-16 div.sk-estimator input.sk-toggleable__control:checked~label.sk-toggleable__label {background-color: #d4ebff;}#sk-container-id-16 div.sk-label input.sk-toggleable__control:checked~label.sk-toggleable__label {background-color: #d4ebff;}#sk-container-id-16 input.sk-hidden--visually {border: 0;clip: rect(1px 1px 1px 1px);clip: rect(1px, 1px, 1px, 1px);height: 1px;margin: -1px;overflow: hidden;padding: 0;position: absolute;width: 1px;}#sk-container-id-16 div.sk-estimator {font-family: monospace;background-color: #f0f8ff;border: 1px dotted black;border-radius: 0.25em;box-sizing: border-box;margin-bottom: 0.5em;}#sk-container-id-16 div.sk-estimator:hover {background-color: #d4ebff;}#sk-container-id-16 div.sk-parallel-item::after {content: \"\";width: 100%;border-bottom: 1px solid gray;flex-grow: 1;}#sk-container-id-16 div.sk-label:hover label.sk-toggleable__label {background-color: #d4ebff;}#sk-container-id-16 div.sk-serial::before {content: \"\";position: absolute;border-left: 1px solid gray;box-sizing: border-box;top: 0;bottom: 0;left: 50%;z-index: 0;}#sk-container-id-16 div.sk-serial {display: flex;flex-direction: column;align-items: center;background-color: white;padding-right: 0.2em;padding-left: 0.2em;position: relative;}#sk-container-id-16 div.sk-item {position: relative;z-index: 1;}#sk-container-id-16 div.sk-parallel {display: flex;align-items: stretch;justify-content: center;background-color: white;position: relative;}#sk-container-id-16 div.sk-item::before, #sk-container-id-16 div.sk-parallel-item::before {content: \"\";position: absolute;border-left: 1px solid gray;box-sizing: border-box;top: 0;bottom: 0;left: 50%;z-index: -1;}#sk-container-id-16 div.sk-parallel-item {display: flex;flex-direction: column;z-index: 1;position: relative;background-color: white;}#sk-container-id-16 div.sk-parallel-item:first-child::after {align-self: flex-end;width: 50%;}#sk-container-id-16 div.sk-parallel-item:last-child::after {align-self: flex-start;width: 50%;}#sk-container-id-16 div.sk-parallel-item:only-child::after {width: 0;}#sk-container-id-16 div.sk-dashed-wrapped {border: 1px dashed gray;margin: 0 0.4em 0.5em 0.4em;box-sizing: border-box;padding-bottom: 0.4em;background-color: white;}#sk-container-id-16 div.sk-label label {font-family: monospace;font-weight: bold;display: inline-block;line-height: 1.2em;}#sk-container-id-16 div.sk-label-container {text-align: center;}#sk-container-id-16 div.sk-container {/* jupyter's `normalize.less` sets `[hidden] { display: none; }` but bootstrap.min.css set `[hidden] { display: none !important; }` so we also need the `!important` here to be able to override the default hidden behavior on the sphinx rendered scikit-learn.org. See: https://github.com/scikit-learn/scikit-learn/issues/21755 */display: inline-block !important;position: relative;}#sk-container-id-16 div.sk-text-repr-fallback {display: none;}</style><div id=\"sk-container-id-16\" class=\"sk-top-container\"><div class=\"sk-text-repr-fallback\"><pre>GridSearchCV(cv=KFold(n_splits=3, random_state=0, shuffle=True),\n",
       "             estimator=BaggingRegressor(),\n",
       "             param_grid={&#x27;max_features&#x27;: [0.5, 0.7, 1],\n",
       "                         &#x27;max_samples&#x27;: [0.2, 0.5, 1.0],\n",
       "                         &#x27;n_estimators&#x27;: [10, 20, 30]},\n",
       "             scoring=&#x27;neg_mean_squared_error&#x27;, verbose=1)</pre><b>In a Jupyter environment, please rerun this cell to show the HTML representation or trust the notebook. <br />On GitHub, the HTML representation is unable to render, please try loading this page with nbviewer.org.</b></div><div class=\"sk-container\" hidden><div class=\"sk-item sk-dashed-wrapped\"><div class=\"sk-label-container\"><div class=\"sk-label sk-toggleable\"><input class=\"sk-toggleable__control sk-hidden--visually\" id=\"sk-estimator-id-38\" type=\"checkbox\" ><label for=\"sk-estimator-id-38\" class=\"sk-toggleable__label sk-toggleable__label-arrow\">GridSearchCV</label><div class=\"sk-toggleable__content\"><pre>GridSearchCV(cv=KFold(n_splits=3, random_state=0, shuffle=True),\n",
       "             estimator=BaggingRegressor(),\n",
       "             param_grid={&#x27;max_features&#x27;: [0.5, 0.7, 1],\n",
       "                         &#x27;max_samples&#x27;: [0.2, 0.5, 1.0],\n",
       "                         &#x27;n_estimators&#x27;: [10, 20, 30]},\n",
       "             scoring=&#x27;neg_mean_squared_error&#x27;, verbose=1)</pre></div></div></div><div class=\"sk-parallel\"><div class=\"sk-parallel-item\"><div class=\"sk-item\"><div class=\"sk-label-container\"><div class=\"sk-label sk-toggleable\"><input class=\"sk-toggleable__control sk-hidden--visually\" id=\"sk-estimator-id-39\" type=\"checkbox\" ><label for=\"sk-estimator-id-39\" class=\"sk-toggleable__label sk-toggleable__label-arrow\">estimator: BaggingRegressor</label><div class=\"sk-toggleable__content\"><pre>BaggingRegressor()</pre></div></div></div><div class=\"sk-serial\"><div class=\"sk-item\"><div class=\"sk-estimator sk-toggleable\"><input class=\"sk-toggleable__control sk-hidden--visually\" id=\"sk-estimator-id-40\" type=\"checkbox\" ><label for=\"sk-estimator-id-40\" class=\"sk-toggleable__label sk-toggleable__label-arrow\">BaggingRegressor</label><div class=\"sk-toggleable__content\"><pre>BaggingRegressor()</pre></div></div></div></div></div></div></div></div></div></div>"
      ],
      "text/plain": [
       "GridSearchCV(cv=KFold(n_splits=3, random_state=0, shuffle=True),\n",
       "             estimator=BaggingRegressor(),\n",
       "             param_grid={'max_features': [0.5, 0.7, 1],\n",
       "                         'max_samples': [0.2, 0.5, 1.0],\n",
       "                         'n_estimators': [10, 20, 30]},\n",
       "             scoring='neg_mean_squared_error', verbose=1)"
      ]
     },
     "execution_count": 95,
     "metadata": {},
     "output_type": "execute_result"
    }
   ],
   "source": [
    "# Building Bagging Regression model with Grid search CV\n",
    "from sklearn.ensemble import BaggingRegressor\n",
    "\n",
    "folds = KFold(n_splits=3, shuffle=True, random_state=0)\n",
    "\n",
    "param = {'n_estimators':[10,20,30],\n",
    "          'max_samples':[0.2,0.5,1.0],\n",
    "          'max_features':[0.5,0.7,1]}\n",
    "\n",
    "br = BaggingRegressor()\n",
    "br_grid = GridSearchCV(estimator=br,\n",
    "                      cv=folds,\n",
    "                      param_grid=param,\n",
    "                      scoring='neg_mean_squared_error',\n",
    "                      verbose=1)\n",
    "\n",
    "br_grid.fit(train_x, train_y)"
   ]
  },
  {
   "cell_type": "code",
   "execution_count": 96,
   "id": "720d7b92",
   "metadata": {},
   "outputs": [
    {
     "data": {
      "text/plain": [
       "{'max_features': 0.7, 'max_samples': 0.5, 'n_estimators': 30}"
      ]
     },
     "execution_count": 96,
     "metadata": {},
     "output_type": "execute_result"
    }
   ],
   "source": [
    "# Best parameters\n",
    "br_grid.best_params_"
   ]
  },
  {
   "cell_type": "code",
   "execution_count": 97,
   "id": "c760bec9",
   "metadata": {},
   "outputs": [
    {
     "name": "stdout",
     "output_type": "stream",
     "text": [
      "train score is 0.87\n",
      "test score is 0.65\n",
      "r2 score is 0.65\n",
      "MAE score is 3.27\n",
      "MSE score is 32.63\n",
      "RMSE score is 5.71\n",
      "MAPE score is 0.38\n"
     ]
    }
   ],
   "source": [
    "br = BaggingRegressor(n_estimators=br_grid.best_params_.get('n_estimators'),\n",
    "                      max_features=br_grid.best_params_.get('max_features'),\n",
    "                      max_samples=br_grid.best_params_.get('max_samples'))\n",
    "\n",
    "br.fit(train_x, train_y)\n",
    "\n",
    "print('train score is %.2f'%br.score(train_x, train_y))\n",
    "print('test score is %.2f'%br.score(test_x, test_y))\n",
    "\n",
    "br_pred = br.predict(test_x)\n",
    "\n",
    "print('r2 score is %.2f'%r2_score(test_y, br_pred))\n",
    "print('MAE score is %.2f'%mean_absolute_error(test_y, br_pred))\n",
    "print('MSE score is %.2f'%mean_squared_error(test_y, br_pred))\n",
    "print('RMSE score is %.2f'%np.sqrt(mean_squared_error(test_y, br_pred)))\n",
    "print('MAPE score is %.2f'%mean_absolute_percentage_error(test_y, br_pred))"
   ]
  },
  {
   "cell_type": "markdown",
   "id": "24b3d937",
   "metadata": {},
   "source": [
    "- In Bagging regression model we are getting training score as 0.87 and testing score as 0.65 which shows overfitting.\n",
    "- But RMSE is 5.71 which is less than Decision tree model hence model is better."
   ]
  },
  {
   "cell_type": "code",
   "execution_count": null,
   "id": "5f5bb0c5",
   "metadata": {},
   "outputs": [],
   "source": []
  },
  {
   "cell_type": "markdown",
   "id": "ae46f5e8",
   "metadata": {},
   "source": [
    "#### Model 3: Extra Tree "
   ]
  },
  {
   "cell_type": "code",
   "execution_count": 99,
   "id": "1b7cd23d",
   "metadata": {},
   "outputs": [
    {
     "name": "stdout",
     "output_type": "stream",
     "text": [
      "Fitting 3 folds for each of 108 candidates, totalling 324 fits\n"
     ]
    },
    {
     "data": {
      "text/html": [
       "<style>#sk-container-id-17 {color: black;background-color: white;}#sk-container-id-17 pre{padding: 0;}#sk-container-id-17 div.sk-toggleable {background-color: white;}#sk-container-id-17 label.sk-toggleable__label {cursor: pointer;display: block;width: 100%;margin-bottom: 0;padding: 0.3em;box-sizing: border-box;text-align: center;}#sk-container-id-17 label.sk-toggleable__label-arrow:before {content: \"▸\";float: left;margin-right: 0.25em;color: #696969;}#sk-container-id-17 label.sk-toggleable__label-arrow:hover:before {color: black;}#sk-container-id-17 div.sk-estimator:hover label.sk-toggleable__label-arrow:before {color: black;}#sk-container-id-17 div.sk-toggleable__content {max-height: 0;max-width: 0;overflow: hidden;text-align: left;background-color: #f0f8ff;}#sk-container-id-17 div.sk-toggleable__content pre {margin: 0.2em;color: black;border-radius: 0.25em;background-color: #f0f8ff;}#sk-container-id-17 input.sk-toggleable__control:checked~div.sk-toggleable__content {max-height: 200px;max-width: 100%;overflow: auto;}#sk-container-id-17 input.sk-toggleable__control:checked~label.sk-toggleable__label-arrow:before {content: \"▾\";}#sk-container-id-17 div.sk-estimator input.sk-toggleable__control:checked~label.sk-toggleable__label {background-color: #d4ebff;}#sk-container-id-17 div.sk-label input.sk-toggleable__control:checked~label.sk-toggleable__label {background-color: #d4ebff;}#sk-container-id-17 input.sk-hidden--visually {border: 0;clip: rect(1px 1px 1px 1px);clip: rect(1px, 1px, 1px, 1px);height: 1px;margin: -1px;overflow: hidden;padding: 0;position: absolute;width: 1px;}#sk-container-id-17 div.sk-estimator {font-family: monospace;background-color: #f0f8ff;border: 1px dotted black;border-radius: 0.25em;box-sizing: border-box;margin-bottom: 0.5em;}#sk-container-id-17 div.sk-estimator:hover {background-color: #d4ebff;}#sk-container-id-17 div.sk-parallel-item::after {content: \"\";width: 100%;border-bottom: 1px solid gray;flex-grow: 1;}#sk-container-id-17 div.sk-label:hover label.sk-toggleable__label {background-color: #d4ebff;}#sk-container-id-17 div.sk-serial::before {content: \"\";position: absolute;border-left: 1px solid gray;box-sizing: border-box;top: 0;bottom: 0;left: 50%;z-index: 0;}#sk-container-id-17 div.sk-serial {display: flex;flex-direction: column;align-items: center;background-color: white;padding-right: 0.2em;padding-left: 0.2em;position: relative;}#sk-container-id-17 div.sk-item {position: relative;z-index: 1;}#sk-container-id-17 div.sk-parallel {display: flex;align-items: stretch;justify-content: center;background-color: white;position: relative;}#sk-container-id-17 div.sk-item::before, #sk-container-id-17 div.sk-parallel-item::before {content: \"\";position: absolute;border-left: 1px solid gray;box-sizing: border-box;top: 0;bottom: 0;left: 50%;z-index: -1;}#sk-container-id-17 div.sk-parallel-item {display: flex;flex-direction: column;z-index: 1;position: relative;background-color: white;}#sk-container-id-17 div.sk-parallel-item:first-child::after {align-self: flex-end;width: 50%;}#sk-container-id-17 div.sk-parallel-item:last-child::after {align-self: flex-start;width: 50%;}#sk-container-id-17 div.sk-parallel-item:only-child::after {width: 0;}#sk-container-id-17 div.sk-dashed-wrapped {border: 1px dashed gray;margin: 0 0.4em 0.5em 0.4em;box-sizing: border-box;padding-bottom: 0.4em;background-color: white;}#sk-container-id-17 div.sk-label label {font-family: monospace;font-weight: bold;display: inline-block;line-height: 1.2em;}#sk-container-id-17 div.sk-label-container {text-align: center;}#sk-container-id-17 div.sk-container {/* jupyter's `normalize.less` sets `[hidden] { display: none; }` but bootstrap.min.css set `[hidden] { display: none !important; }` so we also need the `!important` here to be able to override the default hidden behavior on the sphinx rendered scikit-learn.org. See: https://github.com/scikit-learn/scikit-learn/issues/21755 */display: inline-block !important;position: relative;}#sk-container-id-17 div.sk-text-repr-fallback {display: none;}</style><div id=\"sk-container-id-17\" class=\"sk-top-container\"><div class=\"sk-text-repr-fallback\"><pre>GridSearchCV(cv=KFold(n_splits=3, random_state=0, shuffle=True),\n",
       "             estimator=ExtraTreesRegressor(),\n",
       "             param_grid={&#x27;max_depth&#x27;: [None, 4, 6, 8],\n",
       "                         &#x27;max_features&#x27;: [&#x27;sqrt&#x27;, &#x27;log2&#x27;, &#x27;None&#x27;],\n",
       "                         &#x27;min_samples_leaf&#x27;: [1, 3, 6],\n",
       "                         &#x27;min_samples_split&#x27;: [2, 4, 6]},\n",
       "             scoring=&#x27;neg_mean_squared_error&#x27;, verbose=1)</pre><b>In a Jupyter environment, please rerun this cell to show the HTML representation or trust the notebook. <br />On GitHub, the HTML representation is unable to render, please try loading this page with nbviewer.org.</b></div><div class=\"sk-container\" hidden><div class=\"sk-item sk-dashed-wrapped\"><div class=\"sk-label-container\"><div class=\"sk-label sk-toggleable\"><input class=\"sk-toggleable__control sk-hidden--visually\" id=\"sk-estimator-id-41\" type=\"checkbox\" ><label for=\"sk-estimator-id-41\" class=\"sk-toggleable__label sk-toggleable__label-arrow\">GridSearchCV</label><div class=\"sk-toggleable__content\"><pre>GridSearchCV(cv=KFold(n_splits=3, random_state=0, shuffle=True),\n",
       "             estimator=ExtraTreesRegressor(),\n",
       "             param_grid={&#x27;max_depth&#x27;: [None, 4, 6, 8],\n",
       "                         &#x27;max_features&#x27;: [&#x27;sqrt&#x27;, &#x27;log2&#x27;, &#x27;None&#x27;],\n",
       "                         &#x27;min_samples_leaf&#x27;: [1, 3, 6],\n",
       "                         &#x27;min_samples_split&#x27;: [2, 4, 6]},\n",
       "             scoring=&#x27;neg_mean_squared_error&#x27;, verbose=1)</pre></div></div></div><div class=\"sk-parallel\"><div class=\"sk-parallel-item\"><div class=\"sk-item\"><div class=\"sk-label-container\"><div class=\"sk-label sk-toggleable\"><input class=\"sk-toggleable__control sk-hidden--visually\" id=\"sk-estimator-id-42\" type=\"checkbox\" ><label for=\"sk-estimator-id-42\" class=\"sk-toggleable__label sk-toggleable__label-arrow\">estimator: ExtraTreesRegressor</label><div class=\"sk-toggleable__content\"><pre>ExtraTreesRegressor()</pre></div></div></div><div class=\"sk-serial\"><div class=\"sk-item\"><div class=\"sk-estimator sk-toggleable\"><input class=\"sk-toggleable__control sk-hidden--visually\" id=\"sk-estimator-id-43\" type=\"checkbox\" ><label for=\"sk-estimator-id-43\" class=\"sk-toggleable__label sk-toggleable__label-arrow\">ExtraTreesRegressor</label><div class=\"sk-toggleable__content\"><pre>ExtraTreesRegressor()</pre></div></div></div></div></div></div></div></div></div></div>"
      ],
      "text/plain": [
       "GridSearchCV(cv=KFold(n_splits=3, random_state=0, shuffle=True),\n",
       "             estimator=ExtraTreesRegressor(),\n",
       "             param_grid={'max_depth': [None, 4, 6, 8],\n",
       "                         'max_features': ['sqrt', 'log2', 'None'],\n",
       "                         'min_samples_leaf': [1, 3, 6],\n",
       "                         'min_samples_split': [2, 4, 6]},\n",
       "             scoring='neg_mean_squared_error', verbose=1)"
      ]
     },
     "execution_count": 99,
     "metadata": {},
     "output_type": "execute_result"
    }
   ],
   "source": [
    "# Building Extra Tree Regression model with Grid search CV\n",
    "from sklearn.ensemble import ExtraTreesRegressor\n",
    "\n",
    "folds = KFold(n_splits=3, shuffle=True, random_state=0)\n",
    "\n",
    "param = {'max_depth':[None,4,6,8],\n",
    "         'min_samples_split':[2,4,6],\n",
    "         'min_samples_leaf':[1,3,6],\n",
    "         'max_features':['sqrt','log2','None']}\n",
    "                      \n",
    "et = ExtraTreesRegressor()\n",
    "et_grid = GridSearchCV(estimator=et,\n",
    "                      cv=folds,\n",
    "                      param_grid=param,\n",
    "                      scoring='neg_mean_squared_error',\n",
    "                      verbose=1)\n",
    "\n",
    "et_grid.fit(train_x, train_y)"
   ]
  },
  {
   "cell_type": "code",
   "execution_count": 101,
   "id": "6abf46ae",
   "metadata": {},
   "outputs": [
    {
     "data": {
      "text/plain": [
       "{'max_depth': None,\n",
       " 'max_features': 'log2',\n",
       " 'min_samples_leaf': 1,\n",
       " 'min_samples_split': 2}"
      ]
     },
     "execution_count": 101,
     "metadata": {},
     "output_type": "execute_result"
    }
   ],
   "source": [
    "# Best parameters\n",
    "et_grid.best_params_"
   ]
  },
  {
   "cell_type": "code",
   "execution_count": 103,
   "id": "60b209b0",
   "metadata": {},
   "outputs": [
    {
     "name": "stdout",
     "output_type": "stream",
     "text": [
      "train score is 1.00\n",
      "test score is 0.65\n",
      "r2 score is 0.65\n",
      "MAE score is 3.21\n",
      "MSE score is 33.37\n",
      "RMSE score is 5.78\n",
      "MAPE score is 0.36\n"
     ]
    }
   ],
   "source": [
    "#Building model on best parameters\n",
    "et = ExtraTreesRegressor(max_depth=et_grid.best_params_.get('max_depth'),\n",
    "                         max_features=et_grid.best_params_.get('max_features'),\n",
    "                         min_samples_leaf=et_grid.best_params_.get('min_samples_leaf'),\n",
    "                         min_samples_split=et_grid.best_params_.get('min_samples_split'))\n",
    "\n",
    "et.fit(train_x, train_y)\n",
    "\n",
    "print('train score is %.2f'%et.score(train_x, train_y))\n",
    "print('test score is %.2f'%et.score(test_x, test_y))\n",
    "\n",
    "et_pred = et.predict(test_x)\n",
    "\n",
    "print('r2 score is %.2f'%r2_score(test_y, et_pred))\n",
    "print('MAE score is %.2f'%mean_absolute_error(test_y, et_pred))\n",
    "print('MSE score is %.2f'%mean_squared_error(test_y, et_pred))\n",
    "print('RMSE score is %.2f'%np.sqrt(mean_squared_error(test_y, et_pred)))\n",
    "print('MAPE score is %.2f'%mean_absolute_percentage_error(test_y, et_pred))"
   ]
  },
  {
   "cell_type": "markdown",
   "id": "009c4173",
   "metadata": {},
   "source": [
    "- Extra Tree model is also overfitting as training score is more than test score."
   ]
  },
  {
   "cell_type": "code",
   "execution_count": null,
   "id": "cce6189b",
   "metadata": {},
   "outputs": [],
   "source": []
  },
  {
   "cell_type": "markdown",
   "id": "2663107f",
   "metadata": {},
   "source": [
    "#### Model 4: Random Forest"
   ]
  },
  {
   "cell_type": "code",
   "execution_count": 105,
   "id": "5d879d29",
   "metadata": {},
   "outputs": [
    {
     "name": "stdout",
     "output_type": "stream",
     "text": [
      "Fitting 3 folds for each of 36 candidates, totalling 108 fits\n"
     ]
    },
    {
     "data": {
      "text/html": [
       "<style>#sk-container-id-18 {color: black;background-color: white;}#sk-container-id-18 pre{padding: 0;}#sk-container-id-18 div.sk-toggleable {background-color: white;}#sk-container-id-18 label.sk-toggleable__label {cursor: pointer;display: block;width: 100%;margin-bottom: 0;padding: 0.3em;box-sizing: border-box;text-align: center;}#sk-container-id-18 label.sk-toggleable__label-arrow:before {content: \"▸\";float: left;margin-right: 0.25em;color: #696969;}#sk-container-id-18 label.sk-toggleable__label-arrow:hover:before {color: black;}#sk-container-id-18 div.sk-estimator:hover label.sk-toggleable__label-arrow:before {color: black;}#sk-container-id-18 div.sk-toggleable__content {max-height: 0;max-width: 0;overflow: hidden;text-align: left;background-color: #f0f8ff;}#sk-container-id-18 div.sk-toggleable__content pre {margin: 0.2em;color: black;border-radius: 0.25em;background-color: #f0f8ff;}#sk-container-id-18 input.sk-toggleable__control:checked~div.sk-toggleable__content {max-height: 200px;max-width: 100%;overflow: auto;}#sk-container-id-18 input.sk-toggleable__control:checked~label.sk-toggleable__label-arrow:before {content: \"▾\";}#sk-container-id-18 div.sk-estimator input.sk-toggleable__control:checked~label.sk-toggleable__label {background-color: #d4ebff;}#sk-container-id-18 div.sk-label input.sk-toggleable__control:checked~label.sk-toggleable__label {background-color: #d4ebff;}#sk-container-id-18 input.sk-hidden--visually {border: 0;clip: rect(1px 1px 1px 1px);clip: rect(1px, 1px, 1px, 1px);height: 1px;margin: -1px;overflow: hidden;padding: 0;position: absolute;width: 1px;}#sk-container-id-18 div.sk-estimator {font-family: monospace;background-color: #f0f8ff;border: 1px dotted black;border-radius: 0.25em;box-sizing: border-box;margin-bottom: 0.5em;}#sk-container-id-18 div.sk-estimator:hover {background-color: #d4ebff;}#sk-container-id-18 div.sk-parallel-item::after {content: \"\";width: 100%;border-bottom: 1px solid gray;flex-grow: 1;}#sk-container-id-18 div.sk-label:hover label.sk-toggleable__label {background-color: #d4ebff;}#sk-container-id-18 div.sk-serial::before {content: \"\";position: absolute;border-left: 1px solid gray;box-sizing: border-box;top: 0;bottom: 0;left: 50%;z-index: 0;}#sk-container-id-18 div.sk-serial {display: flex;flex-direction: column;align-items: center;background-color: white;padding-right: 0.2em;padding-left: 0.2em;position: relative;}#sk-container-id-18 div.sk-item {position: relative;z-index: 1;}#sk-container-id-18 div.sk-parallel {display: flex;align-items: stretch;justify-content: center;background-color: white;position: relative;}#sk-container-id-18 div.sk-item::before, #sk-container-id-18 div.sk-parallel-item::before {content: \"\";position: absolute;border-left: 1px solid gray;box-sizing: border-box;top: 0;bottom: 0;left: 50%;z-index: -1;}#sk-container-id-18 div.sk-parallel-item {display: flex;flex-direction: column;z-index: 1;position: relative;background-color: white;}#sk-container-id-18 div.sk-parallel-item:first-child::after {align-self: flex-end;width: 50%;}#sk-container-id-18 div.sk-parallel-item:last-child::after {align-self: flex-start;width: 50%;}#sk-container-id-18 div.sk-parallel-item:only-child::after {width: 0;}#sk-container-id-18 div.sk-dashed-wrapped {border: 1px dashed gray;margin: 0 0.4em 0.5em 0.4em;box-sizing: border-box;padding-bottom: 0.4em;background-color: white;}#sk-container-id-18 div.sk-label label {font-family: monospace;font-weight: bold;display: inline-block;line-height: 1.2em;}#sk-container-id-18 div.sk-label-container {text-align: center;}#sk-container-id-18 div.sk-container {/* jupyter's `normalize.less` sets `[hidden] { display: none; }` but bootstrap.min.css set `[hidden] { display: none !important; }` so we also need the `!important` here to be able to override the default hidden behavior on the sphinx rendered scikit-learn.org. See: https://github.com/scikit-learn/scikit-learn/issues/21755 */display: inline-block !important;position: relative;}#sk-container-id-18 div.sk-text-repr-fallback {display: none;}</style><div id=\"sk-container-id-18\" class=\"sk-top-container\"><div class=\"sk-text-repr-fallback\"><pre>GridSearchCV(cv=KFold(n_splits=3, random_state=0, shuffle=True),\n",
       "             estimator=RandomForestRegressor(),\n",
       "             param_grid={&#x27;max_depth&#x27;: [None, 4, 6, 8],\n",
       "                         &#x27;min_samples_leaf&#x27;: [1, 2, 3],\n",
       "                         &#x27;min_samples_split&#x27;: [2, 4, 6]},\n",
       "             scoring=&#x27;neg_mean_squared_error&#x27;, verbose=1)</pre><b>In a Jupyter environment, please rerun this cell to show the HTML representation or trust the notebook. <br />On GitHub, the HTML representation is unable to render, please try loading this page with nbviewer.org.</b></div><div class=\"sk-container\" hidden><div class=\"sk-item sk-dashed-wrapped\"><div class=\"sk-label-container\"><div class=\"sk-label sk-toggleable\"><input class=\"sk-toggleable__control sk-hidden--visually\" id=\"sk-estimator-id-44\" type=\"checkbox\" ><label for=\"sk-estimator-id-44\" class=\"sk-toggleable__label sk-toggleable__label-arrow\">GridSearchCV</label><div class=\"sk-toggleable__content\"><pre>GridSearchCV(cv=KFold(n_splits=3, random_state=0, shuffle=True),\n",
       "             estimator=RandomForestRegressor(),\n",
       "             param_grid={&#x27;max_depth&#x27;: [None, 4, 6, 8],\n",
       "                         &#x27;min_samples_leaf&#x27;: [1, 2, 3],\n",
       "                         &#x27;min_samples_split&#x27;: [2, 4, 6]},\n",
       "             scoring=&#x27;neg_mean_squared_error&#x27;, verbose=1)</pre></div></div></div><div class=\"sk-parallel\"><div class=\"sk-parallel-item\"><div class=\"sk-item\"><div class=\"sk-label-container\"><div class=\"sk-label sk-toggleable\"><input class=\"sk-toggleable__control sk-hidden--visually\" id=\"sk-estimator-id-45\" type=\"checkbox\" ><label for=\"sk-estimator-id-45\" class=\"sk-toggleable__label sk-toggleable__label-arrow\">estimator: RandomForestRegressor</label><div class=\"sk-toggleable__content\"><pre>RandomForestRegressor()</pre></div></div></div><div class=\"sk-serial\"><div class=\"sk-item\"><div class=\"sk-estimator sk-toggleable\"><input class=\"sk-toggleable__control sk-hidden--visually\" id=\"sk-estimator-id-46\" type=\"checkbox\" ><label for=\"sk-estimator-id-46\" class=\"sk-toggleable__label sk-toggleable__label-arrow\">RandomForestRegressor</label><div class=\"sk-toggleable__content\"><pre>RandomForestRegressor()</pre></div></div></div></div></div></div></div></div></div></div>"
      ],
      "text/plain": [
       "GridSearchCV(cv=KFold(n_splits=3, random_state=0, shuffle=True),\n",
       "             estimator=RandomForestRegressor(),\n",
       "             param_grid={'max_depth': [None, 4, 6, 8],\n",
       "                         'min_samples_leaf': [1, 2, 3],\n",
       "                         'min_samples_split': [2, 4, 6]},\n",
       "             scoring='neg_mean_squared_error', verbose=1)"
      ]
     },
     "execution_count": 105,
     "metadata": {},
     "output_type": "execute_result"
    }
   ],
   "source": [
    "# Building Random Forest Regression model with Grid search CV\n",
    "from sklearn.ensemble import RandomForestRegressor\n",
    "\n",
    "folds = KFold(n_splits=3, shuffle=True, random_state=0)\n",
    "\n",
    "#'n_estimators':[50,70,100],\n",
    "#'max_features':['sqrt','log2','auto']\n",
    "\n",
    "param = {'max_depth':[None,4,6,8],\n",
    "         'min_samples_split':[2,4,6],\n",
    "         'min_samples_leaf':[1,2,3]}\n",
    "                      \n",
    "rf = RandomForestRegressor()\n",
    "rf_grid = GridSearchCV(estimator=rf,\n",
    "                      cv=folds,\n",
    "                      param_grid=param,\n",
    "                      scoring='neg_mean_squared_error',\n",
    "                      verbose=1)\n",
    "\n",
    "rf_grid.fit(train_x, train_y)"
   ]
  },
  {
   "cell_type": "code",
   "execution_count": 106,
   "id": "7c14fcc6",
   "metadata": {},
   "outputs": [
    {
     "data": {
      "text/plain": [
       "{'max_depth': None, 'min_samples_leaf': 3, 'min_samples_split': 2}"
      ]
     },
     "execution_count": 106,
     "metadata": {},
     "output_type": "execute_result"
    }
   ],
   "source": [
    "# Best parameters\n",
    "rf_grid.best_params_"
   ]
  },
  {
   "cell_type": "code",
   "execution_count": 109,
   "id": "68395e91",
   "metadata": {},
   "outputs": [
    {
     "name": "stdout",
     "output_type": "stream",
     "text": [
      "train score is 0.90\n",
      "test score is 0.73\n",
      "r2 score is 0.73\n",
      "MAE score is 2.32\n",
      "MSE score is 25.34\n",
      "RMSE score is 5.03\n",
      "MAPE score is 0.24\n"
     ]
    }
   ],
   "source": [
    "rf = RandomForestRegressor(max_depth=rf_grid.best_params_.get('max_depth'),\n",
    "                           #max_features=rf_grid.best_params_.get('max_features'),\n",
    "                           min_samples_leaf=rf_grid.best_params_.get('min_samples_leaf'),\n",
    "                           min_samples_split=rf_grid.best_params_.get('min_samples_split'))\n",
    "                           #n_estimators=rf_grid.best_params_.get('n_estimators')\n",
    "\n",
    "rf.fit(train_x, train_y)\n",
    "\n",
    "print('train score is %.2f'%rf.score(train_x, train_y))\n",
    "print('test score is %.2f'%rf.score(test_x, test_y))\n",
    "\n",
    "rf_pred = rf.predict(test_x)\n",
    "\n",
    "print('r2 score is %.2f'%r2_score(test_y, rf_pred))\n",
    "print('MAE score is %.2f'%mean_absolute_error(test_y, rf_pred))\n",
    "print('MSE score is %.2f'%mean_squared_error(test_y, rf_pred))\n",
    "print('RMSE score is %.2f'%np.sqrt(mean_squared_error(test_y, rf_pred)))\n",
    "print('MAPE score is %.2f'%mean_absolute_percentage_error(test_y, rf_pred))"
   ]
  },
  {
   "cell_type": "markdown",
   "id": "aad7224e",
   "metadata": {},
   "source": [
    "- In Random Forest model our training score (0.90) is more than testing score (0.73) which shows overfitting.\n",
    "- But here Root Mean Squared Error is 5.03 which is lowest in all above models."
   ]
  },
  {
   "cell_type": "code",
   "execution_count": null,
   "id": "fe4723b1",
   "metadata": {},
   "outputs": [],
   "source": []
  },
  {
   "cell_type": "code",
   "execution_count": 111,
   "id": "8282f30a",
   "metadata": {},
   "outputs": [],
   "source": [
    "results = pd.DataFrame({'model':['model:1(Decision Tree)','model:2(Bagging Regressor)','model:3(Extra Tree Regressor)','model:4(Random Forest Regressor)'],\n",
    "                      'train_score':[0.88,0.87,1,0.90],\n",
    "                      'test_score':[0.63,0.65,0.65,0.73],\n",
    "                      'r2_score':[0.63,0.65,0.65,0.73],\n",
    "                      'Mean Absolute Error':[2.97,3.27,3.21,2.32],\n",
    "                      'Mean Squared Error':[34.58,32.63,33.37,25.34],\n",
    "                      'Root Mean Squared Error':[5.88,5.71,5.78,5.03],\n",
    "                      'Mean Absolute Percentage Error':[0.30,0.38,0.36,0.24]})"
   ]
  },
  {
   "cell_type": "code",
   "execution_count": null,
   "id": "302f49c6",
   "metadata": {},
   "outputs": [],
   "source": []
  },
  {
   "cell_type": "markdown",
   "id": "f5949f33",
   "metadata": {},
   "source": [
    "### Result and Conclusion"
   ]
  },
  {
   "cell_type": "code",
   "execution_count": 112,
   "id": "c5a725fb",
   "metadata": {},
   "outputs": [
    {
     "data": {
      "text/html": [
       "<div>\n",
       "<style scoped>\n",
       "    .dataframe tbody tr th:only-of-type {\n",
       "        vertical-align: middle;\n",
       "    }\n",
       "\n",
       "    .dataframe tbody tr th {\n",
       "        vertical-align: top;\n",
       "    }\n",
       "\n",
       "    .dataframe thead th {\n",
       "        text-align: right;\n",
       "    }\n",
       "</style>\n",
       "<table border=\"1\" class=\"dataframe\">\n",
       "  <thead>\n",
       "    <tr style=\"text-align: right;\">\n",
       "      <th></th>\n",
       "      <th>model</th>\n",
       "      <th>train_score</th>\n",
       "      <th>test_score</th>\n",
       "      <th>r2_score</th>\n",
       "      <th>Mean Absolute Error</th>\n",
       "      <th>Mean Squared Error</th>\n",
       "      <th>Root Mean Squared Error</th>\n",
       "      <th>Mean Absolute Percentage Error</th>\n",
       "    </tr>\n",
       "  </thead>\n",
       "  <tbody>\n",
       "    <tr>\n",
       "      <th>0</th>\n",
       "      <td>model:1(Decision Tree)</td>\n",
       "      <td>0.88</td>\n",
       "      <td>0.63</td>\n",
       "      <td>0.63</td>\n",
       "      <td>2.97</td>\n",
       "      <td>34.58</td>\n",
       "      <td>5.88</td>\n",
       "      <td>0.30</td>\n",
       "    </tr>\n",
       "    <tr>\n",
       "      <th>1</th>\n",
       "      <td>model:2(Bagging Regressor)</td>\n",
       "      <td>0.87</td>\n",
       "      <td>0.65</td>\n",
       "      <td>0.65</td>\n",
       "      <td>3.27</td>\n",
       "      <td>32.63</td>\n",
       "      <td>5.71</td>\n",
       "      <td>0.38</td>\n",
       "    </tr>\n",
       "    <tr>\n",
       "      <th>2</th>\n",
       "      <td>model:3(Extra Tree Regressor)</td>\n",
       "      <td>1.00</td>\n",
       "      <td>0.65</td>\n",
       "      <td>0.65</td>\n",
       "      <td>3.21</td>\n",
       "      <td>33.37</td>\n",
       "      <td>5.78</td>\n",
       "      <td>0.36</td>\n",
       "    </tr>\n",
       "    <tr>\n",
       "      <th>3</th>\n",
       "      <td>model:4(Random Forest Regressor)</td>\n",
       "      <td>0.90</td>\n",
       "      <td>0.73</td>\n",
       "      <td>0.73</td>\n",
       "      <td>2.32</td>\n",
       "      <td>25.34</td>\n",
       "      <td>5.03</td>\n",
       "      <td>0.24</td>\n",
       "    </tr>\n",
       "  </tbody>\n",
       "</table>\n",
       "</div>"
      ],
      "text/plain": [
       "                              model  train_score  test_score  r2_score  \\\n",
       "0            model:1(Decision Tree)         0.88        0.63      0.63   \n",
       "1        model:2(Bagging Regressor)         0.87        0.65      0.65   \n",
       "2     model:3(Extra Tree Regressor)         1.00        0.65      0.65   \n",
       "3  model:4(Random Forest Regressor)         0.90        0.73      0.73   \n",
       "\n",
       "   Mean Absolute Error  Mean Squared Error  Root Mean Squared Error  \\\n",
       "0                 2.97               34.58                     5.88   \n",
       "1                 3.27               32.63                     5.71   \n",
       "2                 3.21               33.37                     5.78   \n",
       "3                 2.32               25.34                     5.03   \n",
       "\n",
       "   Mean Absolute Percentage Error  \n",
       "0                            0.30  \n",
       "1                            0.38  \n",
       "2                            0.36  \n",
       "3                            0.24  "
      ]
     },
     "execution_count": 112,
     "metadata": {},
     "output_type": "execute_result"
    }
   ],
   "source": [
    "results"
   ]
  },
  {
   "cell_type": "markdown",
   "id": "a2e64332",
   "metadata": {},
   "source": [
    "- In this dataset data related to pickup and dropoff points are given along with no. of passengers and time.\n",
    "- Our aim was to predict taxi fare, In dataset amount is our target variable.   \n",
    "- Dataset contained some wrong entries related to longitude, latitude and no. of passengers.\n",
    "- Feature engineering is performed on date_time_of_pickup to extract meaningfull information like month, day_of_week, is_weekend, day and year.\n",
    "- After performing feature selection is_weekend found to be least important.\n",
    "- Total 4 regression models are created. (Decision Tree, Bagging Regressor, Extra Tree Regressor and Random Forest Regressor).\n",
    "- Based on above result matrix we can say all the models are suffering from overfitting.\n",
    "- But erors are less for random Forest model(model 4), Coefficient of determination for Random Forest is 0.73 \n",
    "- Random Forest is performing better than other models."
   ]
  },
  {
   "cell_type": "code",
   "execution_count": null,
   "id": "06d7dffe",
   "metadata": {},
   "outputs": [],
   "source": []
  }
 ],
 "metadata": {
  "kernelspec": {
   "display_name": "Python 3 (ipykernel)",
   "language": "python",
   "name": "python3"
  },
  "language_info": {
   "codemirror_mode": {
    "name": "ipython",
    "version": 3
   },
   "file_extension": ".py",
   "mimetype": "text/x-python",
   "name": "python",
   "nbconvert_exporter": "python",
   "pygments_lexer": "ipython3",
   "version": "3.10.9"
  }
 },
 "nbformat": 4,
 "nbformat_minor": 5
}
